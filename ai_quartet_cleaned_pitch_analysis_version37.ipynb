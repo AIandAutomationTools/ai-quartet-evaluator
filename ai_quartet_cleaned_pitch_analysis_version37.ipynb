{
  "cells": [
    {
      "cell_type": "markdown",
      "metadata": {
        "id": "view-in-github",
        "colab_type": "text"
      },
      "source": [
        "<a href=\"https://colab.research.google.com/github/AIandAutomationTools/ai-quartet-evaluator/blob/main/ai_quartet_cleaned_pitch_analysis_version37.ipynb\" target=\"_parent\"><img src=\"https://colab.research.google.com/assets/colab-badge.svg\" alt=\"Open In Colab\"/></a>"
      ]
    },
    {
      "cell_type": "markdown",
      "metadata": {
        "id": "065CRwZyVw1j"
      },
      "source": [
        "# 🎵 AI Quartet Pitch Analysis\n",
        "This notebook compares a student's pitch to a professor's using a Google Drive MP3 link for each."
      ]
    },
    {
      "cell_type": "code",
      "source": [
        "from IPython.display import display, Javascript\n",
        "from google.colab import output\n",
        "\n",
        "# Global variables to hold the URLs\n",
        "student_url = \"\"\n",
        "professor_url = \"\"\n",
        "\n",
        "# Callback that will be triggered by JS\n",
        "def set_urls(student, professor):\n",
        "    global student_url, professor_url\n",
        "    student_url = student\n",
        "    professor_url = professor\n",
        "    print(\"✅ Student URL:\", student_url)\n",
        "    print(\"✅ Professor URL:\", professor_url)\n",
        "\n",
        "output.register_callback('notebook.set_urls', set_urls)\n",
        "\n",
        "# JavaScript to extract params and send to Python\n",
        "display(Javascript(\"\"\"\n",
        "(async () => {\n",
        "  const params = new URLSearchParams(window.location.search);\n",
        "  const student = params.get(\"student_url\");\n",
        "  const professor = params.get(\"professor_url\");\n",
        "\n",
        "  if (student && professor) {\n",
        "    await google.colab.kernel.invokeFunction('notebook.set_urls', [student, professor], {});\n",
        "    document.body.insertAdjacentHTML(\"afterbegin\", \"<p style='color:green'><b>✅ Notebook loaded and URLs sent!</b></p>\");\n",
        "  } else {\n",
        "    document.body.insertAdjacentHTML(\"afterbegin\", \"<p style='color:red'><b>❌ Missing student or professor URL. Please include them in the link.</b></p>\");\n",
        "  }\n",
        "})();\n",
        "\"\"\"))\n",
        "\n"
      ],
      "metadata": {
        "id": "xbBOndxlDei3",
        "colab": {
          "base_uri": "https://localhost:8080/",
          "height": 46
        },
        "outputId": "a12f6dc3-cccf-40f6-dc28-7f584618a95a"
      },
      "execution_count": 5,
      "outputs": [
        {
          "output_type": "display_data",
          "data": {
            "text/plain": [
              "<IPython.core.display.Javascript object>"
            ],
            "application/javascript": [
              "\n",
              "(async () => {\n",
              "  const urlParams = new URLSearchParams(window.location.search);\n",
              "  const student = urlParams.get(\"student_url\");\n",
              "  const professor = urlParams.get(\"professor_url\");\n",
              "\n",
              "  if (student && professor) {\n",
              "    google.colab.kernel.invokeFunction('notebook.set_urls', [student, professor], {});\n",
              "    document.body.insertAdjacentHTML(\"afterbegin\", \"<p style='color:green'><b>✅ Notebook loaded and URLs sent!</b></p>\");\n",
              "  } else {\n",
              "    document.body.insertAdjacentHTML(\"afterbegin\", \"<p style='color:red'><b>❌ Missing student or professor URL. Please include them in the link.</b></p>\");\n",
              "  }\n",
              "})();\n"
            ]
          },
          "metadata": {}
        }
      ]
    },
    {
      "cell_type": "code",
      "source": [
        "print(\"Student URL:\", student_url)\n",
        "print(\"Professor URL:\", professor_url)\n"
      ],
      "metadata": {
        "id": "IWBdwX5hs5Pz",
        "outputId": "65b36444-6fa3-4900-b6ce-f5ac4b8f14fb",
        "colab": {
          "base_uri": "https://localhost:8080/"
        }
      },
      "execution_count": 6,
      "outputs": [
        {
          "output_type": "stream",
          "name": "stdout",
          "text": [
            "Student URL: \n",
            "Professor URL: \n"
          ]
        }
      ]
    },
    {
      "cell_type": "code",
      "execution_count": 7,
      "metadata": {
        "id": "oidVLKHAVw1m",
        "colab": {
          "base_uri": "https://localhost:8080/",
          "height": 373
        },
        "outputId": "d2d7f4f2-9b7f-4e9d-9485-ff1fbb43f361"
      },
      "outputs": [
        {
          "output_type": "stream",
          "name": "stdout",
          "text": [
            "🔗 Downloading audio from: \n"
          ]
        },
        {
          "output_type": "error",
          "ename": "MissingSchema",
          "evalue": "Invalid URL '': No scheme supplied. Perhaps you meant https://?",
          "traceback": [
            "\u001b[0;31m---------------------------------------------------------------------------\u001b[0m",
            "\u001b[0;31mMissingSchema\u001b[0m                             Traceback (most recent call last)",
            "\u001b[0;32m/tmp/ipython-input-7-1654901102.py\u001b[0m in \u001b[0;36m<cell line: 0>\u001b[0;34m()\u001b[0m\n\u001b[1;32m     15\u001b[0m \u001b[0;34m\u001b[0m\u001b[0m\n\u001b[1;32m     16\u001b[0m \u001b[0;31m# Load audio files\u001b[0m\u001b[0;34m\u001b[0m\u001b[0;34m\u001b[0m\u001b[0m\n\u001b[0;32m---> 17\u001b[0;31m \u001b[0mprof_audio\u001b[0m\u001b[0;34m,\u001b[0m \u001b[0msr1\u001b[0m \u001b[0;34m=\u001b[0m \u001b[0mload_audio_from_url\u001b[0m\u001b[0;34m(\u001b[0m\u001b[0mprofessor_url\u001b[0m\u001b[0;34m)\u001b[0m\u001b[0;34m\u001b[0m\u001b[0;34m\u001b[0m\u001b[0m\n\u001b[0m\u001b[1;32m     18\u001b[0m \u001b[0mstud_audio\u001b[0m\u001b[0;34m,\u001b[0m \u001b[0msr2\u001b[0m \u001b[0;34m=\u001b[0m \u001b[0mload_audio_from_url\u001b[0m\u001b[0;34m(\u001b[0m\u001b[0mstudent_url\u001b[0m\u001b[0;34m)\u001b[0m\u001b[0;34m\u001b[0m\u001b[0;34m\u001b[0m\u001b[0m\n\u001b[1;32m     19\u001b[0m \u001b[0;34m\u001b[0m\u001b[0m\n",
            "\u001b[0;32m/tmp/ipython-input-7-1654901102.py\u001b[0m in \u001b[0;36mload_audio_from_url\u001b[0;34m(url)\u001b[0m\n\u001b[1;32m      8\u001b[0m \u001b[0;32mdef\u001b[0m \u001b[0mload_audio_from_url\u001b[0m\u001b[0;34m(\u001b[0m\u001b[0murl\u001b[0m\u001b[0;34m)\u001b[0m\u001b[0;34m:\u001b[0m\u001b[0;34m\u001b[0m\u001b[0;34m\u001b[0m\u001b[0m\n\u001b[1;32m      9\u001b[0m     \u001b[0mprint\u001b[0m\u001b[0;34m(\u001b[0m\u001b[0;34mf\"🔗 Downloading audio from: {url}\"\u001b[0m\u001b[0;34m)\u001b[0m\u001b[0;34m\u001b[0m\u001b[0;34m\u001b[0m\u001b[0m\n\u001b[0;32m---> 10\u001b[0;31m     \u001b[0mresponse\u001b[0m \u001b[0;34m=\u001b[0m \u001b[0mrequests\u001b[0m\u001b[0;34m.\u001b[0m\u001b[0mget\u001b[0m\u001b[0;34m(\u001b[0m\u001b[0murl\u001b[0m\u001b[0;34m)\u001b[0m\u001b[0;34m\u001b[0m\u001b[0;34m\u001b[0m\u001b[0m\n\u001b[0m\u001b[1;32m     11\u001b[0m     \u001b[0mresponse\u001b[0m\u001b[0;34m.\u001b[0m\u001b[0mraise_for_status\u001b[0m\u001b[0;34m(\u001b[0m\u001b[0;34m)\u001b[0m\u001b[0;34m\u001b[0m\u001b[0;34m\u001b[0m\u001b[0m\n\u001b[1;32m     12\u001b[0m     \u001b[0maudio_data\u001b[0m \u001b[0;34m=\u001b[0m \u001b[0mio\u001b[0m\u001b[0;34m.\u001b[0m\u001b[0mBytesIO\u001b[0m\u001b[0;34m(\u001b[0m\u001b[0mresponse\u001b[0m\u001b[0;34m.\u001b[0m\u001b[0mcontent\u001b[0m\u001b[0;34m)\u001b[0m\u001b[0;34m\u001b[0m\u001b[0;34m\u001b[0m\u001b[0m\n",
            "\u001b[0;32m/usr/local/lib/python3.11/dist-packages/requests/api.py\u001b[0m in \u001b[0;36mget\u001b[0;34m(url, params, **kwargs)\u001b[0m\n\u001b[1;32m     71\u001b[0m     \"\"\"\n\u001b[1;32m     72\u001b[0m \u001b[0;34m\u001b[0m\u001b[0m\n\u001b[0;32m---> 73\u001b[0;31m     \u001b[0;32mreturn\u001b[0m \u001b[0mrequest\u001b[0m\u001b[0;34m(\u001b[0m\u001b[0;34m\"get\"\u001b[0m\u001b[0;34m,\u001b[0m \u001b[0murl\u001b[0m\u001b[0;34m,\u001b[0m \u001b[0mparams\u001b[0m\u001b[0;34m=\u001b[0m\u001b[0mparams\u001b[0m\u001b[0;34m,\u001b[0m \u001b[0;34m**\u001b[0m\u001b[0mkwargs\u001b[0m\u001b[0;34m)\u001b[0m\u001b[0;34m\u001b[0m\u001b[0;34m\u001b[0m\u001b[0m\n\u001b[0m\u001b[1;32m     74\u001b[0m \u001b[0;34m\u001b[0m\u001b[0m\n\u001b[1;32m     75\u001b[0m \u001b[0;34m\u001b[0m\u001b[0m\n",
            "\u001b[0;32m/usr/local/lib/python3.11/dist-packages/requests/api.py\u001b[0m in \u001b[0;36mrequest\u001b[0;34m(method, url, **kwargs)\u001b[0m\n\u001b[1;32m     57\u001b[0m     \u001b[0;31m# cases, and look like a memory leak in others.\u001b[0m\u001b[0;34m\u001b[0m\u001b[0;34m\u001b[0m\u001b[0m\n\u001b[1;32m     58\u001b[0m     \u001b[0;32mwith\u001b[0m \u001b[0msessions\u001b[0m\u001b[0;34m.\u001b[0m\u001b[0mSession\u001b[0m\u001b[0;34m(\u001b[0m\u001b[0;34m)\u001b[0m \u001b[0;32mas\u001b[0m \u001b[0msession\u001b[0m\u001b[0;34m:\u001b[0m\u001b[0;34m\u001b[0m\u001b[0;34m\u001b[0m\u001b[0m\n\u001b[0;32m---> 59\u001b[0;31m         \u001b[0;32mreturn\u001b[0m \u001b[0msession\u001b[0m\u001b[0;34m.\u001b[0m\u001b[0mrequest\u001b[0m\u001b[0;34m(\u001b[0m\u001b[0mmethod\u001b[0m\u001b[0;34m=\u001b[0m\u001b[0mmethod\u001b[0m\u001b[0;34m,\u001b[0m \u001b[0murl\u001b[0m\u001b[0;34m=\u001b[0m\u001b[0murl\u001b[0m\u001b[0;34m,\u001b[0m \u001b[0;34m**\u001b[0m\u001b[0mkwargs\u001b[0m\u001b[0;34m)\u001b[0m\u001b[0;34m\u001b[0m\u001b[0;34m\u001b[0m\u001b[0m\n\u001b[0m\u001b[1;32m     60\u001b[0m \u001b[0;34m\u001b[0m\u001b[0m\n\u001b[1;32m     61\u001b[0m \u001b[0;34m\u001b[0m\u001b[0m\n",
            "\u001b[0;32m/usr/local/lib/python3.11/dist-packages/requests/sessions.py\u001b[0m in \u001b[0;36mrequest\u001b[0;34m(self, method, url, params, data, headers, cookies, files, auth, timeout, allow_redirects, proxies, hooks, stream, verify, cert, json)\u001b[0m\n\u001b[1;32m    573\u001b[0m             \u001b[0mhooks\u001b[0m\u001b[0;34m=\u001b[0m\u001b[0mhooks\u001b[0m\u001b[0;34m,\u001b[0m\u001b[0;34m\u001b[0m\u001b[0;34m\u001b[0m\u001b[0m\n\u001b[1;32m    574\u001b[0m         )\n\u001b[0;32m--> 575\u001b[0;31m         \u001b[0mprep\u001b[0m \u001b[0;34m=\u001b[0m \u001b[0mself\u001b[0m\u001b[0;34m.\u001b[0m\u001b[0mprepare_request\u001b[0m\u001b[0;34m(\u001b[0m\u001b[0mreq\u001b[0m\u001b[0;34m)\u001b[0m\u001b[0;34m\u001b[0m\u001b[0;34m\u001b[0m\u001b[0m\n\u001b[0m\u001b[1;32m    576\u001b[0m \u001b[0;34m\u001b[0m\u001b[0m\n\u001b[1;32m    577\u001b[0m         \u001b[0mproxies\u001b[0m \u001b[0;34m=\u001b[0m \u001b[0mproxies\u001b[0m \u001b[0;32mor\u001b[0m \u001b[0;34m{\u001b[0m\u001b[0;34m}\u001b[0m\u001b[0;34m\u001b[0m\u001b[0;34m\u001b[0m\u001b[0m\n",
            "\u001b[0;32m/usr/local/lib/python3.11/dist-packages/requests/sessions.py\u001b[0m in \u001b[0;36mprepare_request\u001b[0;34m(self, request)\u001b[0m\n\u001b[1;32m    482\u001b[0m \u001b[0;34m\u001b[0m\u001b[0m\n\u001b[1;32m    483\u001b[0m         \u001b[0mp\u001b[0m \u001b[0;34m=\u001b[0m \u001b[0mPreparedRequest\u001b[0m\u001b[0;34m(\u001b[0m\u001b[0;34m)\u001b[0m\u001b[0;34m\u001b[0m\u001b[0;34m\u001b[0m\u001b[0m\n\u001b[0;32m--> 484\u001b[0;31m         p.prepare(\n\u001b[0m\u001b[1;32m    485\u001b[0m             \u001b[0mmethod\u001b[0m\u001b[0;34m=\u001b[0m\u001b[0mrequest\u001b[0m\u001b[0;34m.\u001b[0m\u001b[0mmethod\u001b[0m\u001b[0;34m.\u001b[0m\u001b[0mupper\u001b[0m\u001b[0;34m(\u001b[0m\u001b[0;34m)\u001b[0m\u001b[0;34m,\u001b[0m\u001b[0;34m\u001b[0m\u001b[0;34m\u001b[0m\u001b[0m\n\u001b[1;32m    486\u001b[0m             \u001b[0murl\u001b[0m\u001b[0;34m=\u001b[0m\u001b[0mrequest\u001b[0m\u001b[0;34m.\u001b[0m\u001b[0murl\u001b[0m\u001b[0;34m,\u001b[0m\u001b[0;34m\u001b[0m\u001b[0;34m\u001b[0m\u001b[0m\n",
            "\u001b[0;32m/usr/local/lib/python3.11/dist-packages/requests/models.py\u001b[0m in \u001b[0;36mprepare\u001b[0;34m(self, method, url, headers, files, data, params, auth, cookies, hooks, json)\u001b[0m\n\u001b[1;32m    365\u001b[0m \u001b[0;34m\u001b[0m\u001b[0m\n\u001b[1;32m    366\u001b[0m         \u001b[0mself\u001b[0m\u001b[0;34m.\u001b[0m\u001b[0mprepare_method\u001b[0m\u001b[0;34m(\u001b[0m\u001b[0mmethod\u001b[0m\u001b[0;34m)\u001b[0m\u001b[0;34m\u001b[0m\u001b[0;34m\u001b[0m\u001b[0m\n\u001b[0;32m--> 367\u001b[0;31m         \u001b[0mself\u001b[0m\u001b[0;34m.\u001b[0m\u001b[0mprepare_url\u001b[0m\u001b[0;34m(\u001b[0m\u001b[0murl\u001b[0m\u001b[0;34m,\u001b[0m \u001b[0mparams\u001b[0m\u001b[0;34m)\u001b[0m\u001b[0;34m\u001b[0m\u001b[0;34m\u001b[0m\u001b[0m\n\u001b[0m\u001b[1;32m    368\u001b[0m         \u001b[0mself\u001b[0m\u001b[0;34m.\u001b[0m\u001b[0mprepare_headers\u001b[0m\u001b[0;34m(\u001b[0m\u001b[0mheaders\u001b[0m\u001b[0;34m)\u001b[0m\u001b[0;34m\u001b[0m\u001b[0;34m\u001b[0m\u001b[0m\n\u001b[1;32m    369\u001b[0m         \u001b[0mself\u001b[0m\u001b[0;34m.\u001b[0m\u001b[0mprepare_cookies\u001b[0m\u001b[0;34m(\u001b[0m\u001b[0mcookies\u001b[0m\u001b[0;34m)\u001b[0m\u001b[0;34m\u001b[0m\u001b[0;34m\u001b[0m\u001b[0m\n",
            "\u001b[0;32m/usr/local/lib/python3.11/dist-packages/requests/models.py\u001b[0m in \u001b[0;36mprepare_url\u001b[0;34m(self, url, params)\u001b[0m\n\u001b[1;32m    436\u001b[0m \u001b[0;34m\u001b[0m\u001b[0m\n\u001b[1;32m    437\u001b[0m         \u001b[0;32mif\u001b[0m \u001b[0;32mnot\u001b[0m \u001b[0mscheme\u001b[0m\u001b[0;34m:\u001b[0m\u001b[0;34m\u001b[0m\u001b[0;34m\u001b[0m\u001b[0m\n\u001b[0;32m--> 438\u001b[0;31m             raise MissingSchema(\n\u001b[0m\u001b[1;32m    439\u001b[0m                 \u001b[0;34mf\"Invalid URL {url!r}: No scheme supplied. \"\u001b[0m\u001b[0;34m\u001b[0m\u001b[0;34m\u001b[0m\u001b[0m\n\u001b[1;32m    440\u001b[0m                 \u001b[0;34mf\"Perhaps you meant https://{url}?\"\u001b[0m\u001b[0;34m\u001b[0m\u001b[0;34m\u001b[0m\u001b[0m\n",
            "\u001b[0;31mMissingSchema\u001b[0m: Invalid URL '': No scheme supplied. Perhaps you meant https://?"
          ]
        }
      ],
      "source": [
        "# Example usage of student_url and professor_url\n",
        "import librosa\n",
        "import numpy as np\n",
        "import matplotlib.pyplot as plt\n",
        "import requests\n",
        "import io\n",
        "\n",
        "def load_audio_from_url(url):\n",
        "    print(f\"🔗 Downloading audio from: {url}\")\n",
        "    response = requests.get(url)\n",
        "    response.raise_for_status()\n",
        "    audio_data = io.BytesIO(response.content)\n",
        "    audio, sr = librosa.load(audio_data, sr=None)\n",
        "    return audio, sr\n",
        "\n",
        "# Load audio files\n",
        "prof_audio, sr1 = load_audio_from_url(professor_url)\n",
        "stud_audio, sr2 = load_audio_from_url(student_url)\n",
        "\n",
        "# Continue with your pitch comparison logic...\n"
      ]
    },
    {
      "cell_type": "code",
      "execution_count": null,
      "metadata": {
        "id": "attsD8rdVw1n"
      },
      "outputs": [],
      "source": [
        "from google.colab import output\n",
        "from IPython.display import Javascript, display\n",
        "\n",
        "# Variables to store the URLs\n",
        "student_url = \"\"\n",
        "professor_url = \"\"\n",
        "\n",
        "# JavaScript code as a raw string\n",
        "js_code = display(Javascript(\n",
        "\n",
        "\"\"\"\n",
        "(async () => {\n",
        "  const urlParams = new URLSearchParams(window.location.search);\n",
        "  const student = urlParams.get(\"student_url\");\n",
        "  const professor = urlParams.get(\"professor_url\");\n",
        "\n",
        "  if (student && professor) {\n",
        "    google.colab.kernel.invokeFunction('notebook.set_urls', [student, professor], {});\n",
        "    document.body.insertAdjacentHTML(\"afterbegin\", \"<p style='color:green'><b>✅ Notebook loaded and URLs sent!</b></p>\");\n",
        "  } else {\n",
        "    document.body.insertAdjacentHTML(\"afterbegin\", \"<p style='color:red'><b>❌ Missing student or professor URL. Please run this notebook using the correct link.</b></p>\");\n",
        "  }\n",
        "})();\n",
        "\"\"\"))\n",
        "\n",
        "# Display the JavaScript\n",
        "display(Javascript(js_code))\n",
        "\n",
        "# Callback function to store URLs\n",
        "def set_urls(student, professor):\n",
        "    global student_url, professor_url\n",
        "    student_url = student\n",
        "    professor_url = professor\n",
        "    print(\"Student URL:\", student_url)\n",
        "    print(\"Professor URL:\", professor_url)\n",
        "\n",
        "# Register the callback\n",
        "output.register_callback('notebook.set_urls', set_urls)\n",
        "\n",
        "\n"
      ]
    },
    {
      "cell_type": "code",
      "execution_count": null,
      "metadata": {
        "id": "EwKmrcKJVw1o"
      },
      "outputs": [],
      "source": [
        "import time\n",
        "\n",
        "# Wait up to 5 seconds for values to be set\n",
        "for _ in range(10):\n",
        "    if student_url and professor_url:\n",
        "        break\n",
        "    time.sleep(0.5)\n",
        "\n",
        "# Check if values are present\n",
        "if not student_url or not professor_url:\n",
        "    raise ValueError(\"❌ Missing one or both URLs. Please ensure they are passed in the notebook link.\")\n",
        "else:\n",
        "    print(\"✅ URLs successfully loaded.\")\n",
        "    print(\"Professor URL:\", professor_url)\n",
        "    print(\"Student URL:\", student_url)\n",
        "\n",
        "\n",
        "prof_audio, sr1 = load_audio_from_url(professor_url)\n",
        "stud_audio, sr2 = load_audio_from_url(student_url)\n",
        "\n",
        "# Resample if needed\n",
        "if sr1 != sr2:\n",
        "    stud_audio = librosa.resample(stud_audio, orig_sr=sr2, target_sr=sr1)\n",
        "    sr2 = sr1"
      ]
    },
    {
      "cell_type": "code",
      "execution_count": null,
      "metadata": {
        "id": "oO4QQ5VFVw1p"
      },
      "outputs": [],
      "source": [
        "# Use yin for monophonic pitch detection\n",
        "prof_pitch = librosa.yin(prof_audio, fmin=librosa.note_to_hz('C2'), fmax=librosa.note_to_hz('C7'), sr=sr1)\n",
        "stud_pitch = librosa.yin(stud_audio, fmin=librosa.note_to_hz('C2'), fmax=librosa.note_to_hz('C7'), sr=sr2)"
      ]
    },
    {
      "cell_type": "code",
      "execution_count": null,
      "metadata": {
        "id": "WRAPSouZVw1q"
      },
      "outputs": [],
      "source": [
        "plt.figure(figsize=(14, 5))\n",
        "plt.plot(prof_pitch, label='Professor Pitch', alpha=0.75)\n",
        "plt.plot(stud_pitch, label='Student Pitch', alpha=0.75)\n",
        "plt.legend()\n",
        "plt.title(\"Pitch Comparison\")\n",
        "plt.xlabel(\"Frame\")\n",
        "plt.ylabel(\"Pitch (Hz)\")\n",
        "plt.grid()\n",
        "plt.show()"
      ]
    },
    {
      "cell_type": "code",
      "execution_count": null,
      "metadata": {
        "id": "ompqITEpVw1r"
      },
      "outputs": [],
      "source": [
        "prof_pitch_clean = np.nan_to_num(prof_pitch)\n",
        "stud_pitch_clean = np.nan_to_num(stud_pitch)\n",
        "\n",
        "# Ensure both pitch arrays are the same length\n",
        "min_len = min(len(prof_pitch_clean), len(stud_pitch_clean))\n",
        "prof_pitch_clean = prof_pitch_clean[:min_len]\n",
        "stud_pitch_clean = stud_pitch_clean[:min_len]\n",
        "\n",
        "# Now compute pitch difference\n",
        "pitch_diff = np.abs(prof_pitch_clean - stud_pitch_clean)\n",
        "\n",
        "pitch_diff = np.abs(prof_pitch_clean - stud_pitch_clean)\n",
        "avg_error = np.mean(pitch_diff)\n",
        "\n",
        "# Analyze pitch deviations over time\n",
        "time_per_frame = len(stud_audio) / sr2 / len(stud_pitch_clean)\n",
        "significant_errors = []\n",
        "\n",
        "for i, diff in enumerate(pitch_diff):\n",
        "    if diff > 50:  # Threshold for \"significant\" error\n",
        "        timestamp = round(i * time_per_frame, 1)\n",
        "        significant_errors.append(timestamp)\n",
        "\n",
        "# Group timestamps into continuous segments\n",
        "from itertools import groupby\n",
        "from operator import itemgetter\n",
        "\n",
        "segments = []\n",
        "for k, g in groupby(enumerate(significant_errors), lambda x: x[0] - x[1]):\n",
        "    group = list(map(itemgetter(1), g))\n",
        "    if group:\n",
        "        start = group[0]\n",
        "        end = group[-1]\n",
        "        if end - start >= 1.5:  # Only include segments > 1.5 seconds\n",
        "            segments.append((start, end))\n",
        "\n",
        "# Provide localized feedback\n",
        "print(\"\\n🎵 Average pitch difference: {:.2f} Hz\".format(avg_error))\n",
        "\n",
        "if segments:\n",
        "    print(\"⚠️ Detailed pitch feedback (segments with >1.5s deviation):\")\n",
        "    for start, end in segments:\n",
        "        print(f\" - Pitch off between {start:.1f}s and {end:.1f}s\")\n",
        "elif avg_error > 100:\n",
        "    print(\"⚠️ Pitch is consistently off — not just in isolated areas. Focus on tuning accuracy throughout the piece.\")\n",
        "else:\n",
        "    print(\"✅ No major localized pitch issues detected.\")\n",
        "\n",
        "\n",
        "#print(f\"\\n🎵 Average pitch difference: {avg_error:.2f} Hz\")\n",
        "#if avg_error < 20:\n",
        "  #  print(\"🎯 Great job! Your pitch closely matches the reference.\")\n",
        "#elif avg_error < 50:\n",
        "    print(\"👍 You're in the ballpark, but there’s room for improvement.\")\n",
        "#else:\n",
        " #   print(\"⚠️ Your pitch deviates significantly. Focus on tuning and accuracy.\")\n",
        "\n",
        "\n"
      ]
    }
  ],
  "metadata": {
    "kernelspec": {
      "display_name": "Python 3",
      "language": "python",
      "name": "python3"
    },
    "language_info": {
      "name": "python",
      "version": ""
    },
    "colab": {
      "provenance": [],
      "include_colab_link": true
    }
  },
  "nbformat": 4,
  "nbformat_minor": 0
}