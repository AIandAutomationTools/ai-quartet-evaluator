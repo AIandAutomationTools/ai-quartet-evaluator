{
  "cells": [
    {
      "cell_type": "markdown",
      "metadata": {
        "id": "view-in-github",
        "colab_type": "text"
      },
      "source": [
        "<a href=\"https://colab.research.google.com/github/AIandAutomationTools/ai-quartet-evaluator/blob/main/ai_quartet_cleaned_pitch_analysis_version26.ipynb\" target=\"_parent\"><img src=\"https://colab.research.google.com/assets/colab-badge.svg\" alt=\"Open In Colab\"/></a>"
      ]
    },
    {
      "cell_type": "markdown",
      "metadata": {
        "id": "065CRwZyVw1j"
      },
      "source": [
        "# 🎵 AI Quartet Pitch Analysis\n",
        "This notebook compares a student's pitch to a professor's using a Google Drive MP3 link for each."
      ]
    },
    {
      "cell_type": "code",
      "execution_count": null,
      "metadata": {
        "id": "2I7t_gNfVw1l"
      },
      "outputs": [],
      "source": [
        "# === Imports ===\n",
        "import librosa\n",
        "import numpy as np\n",
        "import matplotlib.pyplot as plt\n",
        "import requests\n",
        "import io\n",
        "import os\n",
        "import urllib.parse\n",
        "from google.colab import output\n",
        "import time\n",
        "\n",
        "# Initialize globals\n",
        "student_url = None\n",
        "professor_url = None\n",
        "\n",
        "# Callback to receive URLs\n",
        "def set_urls(student, professor):\n",
        "    global student_url, professor_url\n",
        "    student_url = urllib.parse.unquote(student)\n",
        "    professor_url = urllib.parse.unquote(professor)\n",
        "\n",
        "# Register callback\n",
        "output.register_callback('set_urls', set_urls)\n",
        "\n",
        "# JavaScript: extract query parameters and send to Python\n",
        "output.eval_js('''\n",
        "  (async () => {\n",
        "    const urlParams = new URLSearchParams(window.location.search);\n",
        "    const student = urlParams.get(\"student_url\");\n",
        "    const professor = urlParams.get(\"professor_url\");\n",
        "    if (student && professor) {\n",
        "      await google.colab.kernel.invokeFunction('set_urls', [student, professor], {});\n",
        "    }\n",
        "  })();\n",
        "''')\n"
      ]
    },
    {
      "cell_type": "code",
      "source": [
        "import time\n",
        "\n",
        "# Wait for JavaScript to finish\n",
        "for _ in range(10):\n",
        "    if student_url and professor_url:\n",
        "        break\n",
        "    time.sleep(0.5)\n",
        "\n",
        "time.sleep(1)  # Short extra delay just in case\n",
        "\n"
      ],
      "metadata": {
        "id": "xbBOndxlDei3",
        "colab": {
          "base_uri": "https://localhost:8080/",
          "height": 211
        },
        "outputId": "c8a7ee9c-2c22-48a3-d222-6609a141b7ba"
      },
      "execution_count": null,
      "outputs": [
        {
          "output_type": "error",
          "ename": "ValueError",
          "evalue": "❌ Missing one or both URLs. Please ensure they are passed in the notebook link.",
          "traceback": [
            "\u001b[0;31m---------------------------------------------------------------------------\u001b[0m",
            "\u001b[0;31mValueError\u001b[0m                                Traceback (most recent call last)",
            "\u001b[0;32m/tmp/ipython-input-4-3274892890.py\u001b[0m in \u001b[0;36m<cell line: 0>\u001b[0;34m()\u001b[0m\n\u001b[1;32m      8\u001b[0m \u001b[0;31m# Final validation\u001b[0m\u001b[0;34m\u001b[0m\u001b[0;34m\u001b[0m\u001b[0m\n\u001b[1;32m      9\u001b[0m \u001b[0;32mif\u001b[0m \u001b[0;32mnot\u001b[0m \u001b[0mstudent_url\u001b[0m \u001b[0;32mor\u001b[0m \u001b[0;32mnot\u001b[0m \u001b[0mprofessor_url\u001b[0m\u001b[0;34m:\u001b[0m\u001b[0;34m\u001b[0m\u001b[0;34m\u001b[0m\u001b[0m\n\u001b[0;32m---> 10\u001b[0;31m     \u001b[0;32mraise\u001b[0m \u001b[0mValueError\u001b[0m\u001b[0;34m(\u001b[0m\u001b[0;34m\"❌ Missing one or both URLs. Please ensure they are passed in the notebook link.\"\u001b[0m\u001b[0;34m)\u001b[0m\u001b[0;34m\u001b[0m\u001b[0;34m\u001b[0m\u001b[0m\n\u001b[0m\u001b[1;32m     11\u001b[0m \u001b[0;34m\u001b[0m\u001b[0m\n\u001b[1;32m     12\u001b[0m \u001b[0mprint\u001b[0m\u001b[0;34m(\u001b[0m\u001b[0;34m\"🎯 Student URL:\"\u001b[0m\u001b[0;34m,\u001b[0m \u001b[0mstudent_url\u001b[0m\u001b[0;34m)\u001b[0m\u001b[0;34m\u001b[0m\u001b[0;34m\u001b[0m\u001b[0m\n",
            "\u001b[0;31mValueError\u001b[0m: ❌ Missing one or both URLs. Please ensure they are passed in the notebook link."
          ]
        }
      ]
    },
    {
      "cell_type": "code",
      "source": [
        "if not student_url or not professor_url:\n",
        "    raise ValueError(\"❌ Missing one or both URLs. Please ensure they are passed in the notebook link.\")\n",
        "\n",
        "print(\"🎯 Student URL:\", student_url)\n",
        "print(\"🎯 Professor URL:\", professor_url)\n"
      ],
      "metadata": {
        "id": "nS4thYwWA-mD"
      },
      "execution_count": null,
      "outputs": []
    },
    {
      "cell_type": "code",
      "execution_count": null,
      "metadata": {
        "id": "oidVLKHAVw1m"
      },
      "outputs": [],
      "source": [
        "def load_audio_from_url(url):\n",
        "    if not url:\n",
        "        raise ValueError(\"❌ Missing URL input.\")\n",
        "    try:\n",
        "        print(f\"🔗 Attempting to download: {url}\")\n",
        "        response = requests.get(url)\n",
        "        response.raise_for_status()\n",
        "        audio_data = io.BytesIO(response.content)\n",
        "        audio, sr = librosa.load(audio_data, sr=None)\n",
        "        return audio, sr\n",
        "    except Exception as e:\n",
        "        raise RuntimeError(f\"❌ Failed to load audio from {url}\\nError: {e}\")"
      ]
    },
    {
      "cell_type": "code",
      "execution_count": null,
      "metadata": {
        "id": "attsD8rdVw1n"
      },
      "outputs": [],
      "source": [
        "\n",
        "student_url = \"\"\n",
        "professor_url = \"\"\n",
        "\n",
        "def set_urls(student, professor):\n",
        "    global student_url, professor_url\n",
        "    student_url = urllib.parse.unquote(student)\n",
        "    professor_url = urllib.parse.unquote(professor)\n",
        "\n",
        "output.register_callback('set_urls', set_urls)\n",
        "\n",
        "\n",
        "# Now you can call it\n",
        "params = get_url_params()\n",
        "student_url = params.get(\"student_url\")\n",
        "professor_url = params.get(\"professor_url\")\n",
        "\n",
        "#print(\"Professor URL:\", professor_url)\n",
        "#print(\"Student URL:\", student_url)\n",
        "\n",
        "import time\n",
        "time.sleep(1)  # Allow time for JS to inject values\n",
        "\n",
        "print(\"🎧 Student URL:\", student_url)\n",
        "print(\"🎓 Professor URL:\", professor_url)\n",
        "\n",
        "import time\n",
        "\n",
        "# Wait up to 5 seconds for the URLs to populate\n",
        "for _ in range(10):\n",
        "    if student_url and professor_url:\n",
        "        break\n",
        "    time.sleep(0.5)\n",
        "\n",
        "# Now check\n",
        "\n",
        "if student_url is None or professor_url is None:\n",
        "    raise ValueError(\"❌ Missing one or both URLs. Please ensure they are passed in the notebook link.\")\n",
        "\n",
        "\n"
      ]
    },
    {
      "cell_type": "code",
      "execution_count": null,
      "metadata": {
        "id": "EwKmrcKJVw1o"
      },
      "outputs": [],
      "source": [
        "import time\n",
        "\n",
        "# Wait up to 5 seconds for values to be set\n",
        "for _ in range(10):\n",
        "    if student_url and professor_url:\n",
        "        break\n",
        "    time.sleep(0.5)\n",
        "\n",
        "# Check if values are present\n",
        "if not student_url or not professor_url:\n",
        "    raise ValueError(\"❌ Missing one or both URLs. Please ensure they are passed in the notebook link.\")\n",
        "else:\n",
        "    print(\"✅ URLs successfully loaded.\")\n",
        "    print(\"Professor URL:\", professor_url)\n",
        "    print(\"Student URL:\", student_url)\n",
        "\n",
        "\n",
        "prof_audio, sr1 = load_audio_from_url(professor_url)\n",
        "stud_audio, sr2 = load_audio_from_url(student_url)\n",
        "\n",
        "# Resample if needed\n",
        "if sr1 != sr2:\n",
        "    stud_audio = librosa.resample(stud_audio, orig_sr=sr2, target_sr=sr1)\n",
        "    sr2 = sr1"
      ]
    },
    {
      "cell_type": "code",
      "execution_count": null,
      "metadata": {
        "id": "oO4QQ5VFVw1p"
      },
      "outputs": [],
      "source": [
        "# Use yin for monophonic pitch detection\n",
        "prof_pitch = librosa.yin(prof_audio, fmin=librosa.note_to_hz('C2'), fmax=librosa.note_to_hz('C7'), sr=sr1)\n",
        "stud_pitch = librosa.yin(stud_audio, fmin=librosa.note_to_hz('C2'), fmax=librosa.note_to_hz('C7'), sr=sr2)"
      ]
    },
    {
      "cell_type": "code",
      "execution_count": null,
      "metadata": {
        "id": "WRAPSouZVw1q"
      },
      "outputs": [],
      "source": [
        "plt.figure(figsize=(14, 5))\n",
        "plt.plot(prof_pitch, label='Professor Pitch', alpha=0.75)\n",
        "plt.plot(stud_pitch, label='Student Pitch', alpha=0.75)\n",
        "plt.legend()\n",
        "plt.title(\"Pitch Comparison\")\n",
        "plt.xlabel(\"Frame\")\n",
        "plt.ylabel(\"Pitch (Hz)\")\n",
        "plt.grid()\n",
        "plt.show()"
      ]
    },
    {
      "cell_type": "code",
      "execution_count": null,
      "metadata": {
        "id": "ompqITEpVw1r"
      },
      "outputs": [],
      "source": [
        "prof_pitch_clean = np.nan_to_num(prof_pitch)\n",
        "stud_pitch_clean = np.nan_to_num(stud_pitch)\n",
        "\n",
        "# Ensure both pitch arrays are the same length\n",
        "min_len = min(len(prof_pitch_clean), len(stud_pitch_clean))\n",
        "prof_pitch_clean = prof_pitch_clean[:min_len]\n",
        "stud_pitch_clean = stud_pitch_clean[:min_len]\n",
        "\n",
        "# Now compute pitch difference\n",
        "pitch_diff = np.abs(prof_pitch_clean - stud_pitch_clean)\n",
        "\n",
        "pitch_diff = np.abs(prof_pitch_clean - stud_pitch_clean)\n",
        "avg_error = np.mean(pitch_diff)\n",
        "\n",
        "# Analyze pitch deviations over time\n",
        "time_per_frame = len(stud_audio) / sr2 / len(stud_pitch_clean)\n",
        "significant_errors = []\n",
        "\n",
        "for i, diff in enumerate(pitch_diff):\n",
        "    if diff > 50:  # Threshold for \"significant\" error\n",
        "        timestamp = round(i * time_per_frame, 1)\n",
        "        significant_errors.append(timestamp)\n",
        "\n",
        "# Group timestamps into continuous segments\n",
        "from itertools import groupby\n",
        "from operator import itemgetter\n",
        "\n",
        "segments = []\n",
        "for k, g in groupby(enumerate(significant_errors), lambda x: x[0] - x[1]):\n",
        "    group = list(map(itemgetter(1), g))\n",
        "    if group:\n",
        "        start = group[0]\n",
        "        end = group[-1]\n",
        "        if end - start >= 1.5:  # Only include segments > 1.5 seconds\n",
        "            segments.append((start, end))\n",
        "\n",
        "# Provide localized feedback\n",
        "print(\"\\n🎵 Average pitch difference: {:.2f} Hz\".format(avg_error))\n",
        "\n",
        "if segments:\n",
        "    print(\"⚠️ Detailed pitch feedback (segments with >1.5s deviation):\")\n",
        "    for start, end in segments:\n",
        "        print(f\" - Pitch off between {start:.1f}s and {end:.1f}s\")\n",
        "elif avg_error > 100:\n",
        "    print(\"⚠️ Pitch is consistently off — not just in isolated areas. Focus on tuning accuracy throughout the piece.\")\n",
        "else:\n",
        "    print(\"✅ No major localized pitch issues detected.\")\n",
        "\n",
        "\n",
        "#print(f\"\\n🎵 Average pitch difference: {avg_error:.2f} Hz\")\n",
        "#if avg_error < 20:\n",
        "  #  print(\"🎯 Great job! Your pitch closely matches the reference.\")\n",
        "#elif avg_error < 50:\n",
        "    print(\"👍 You're in the ballpark, but there’s room for improvement.\")\n",
        "#else:\n",
        " #   print(\"⚠️ Your pitch deviates significantly. Focus on tuning and accuracy.\")\n",
        "\n",
        "\n"
      ]
    }
  ],
  "metadata": {
    "kernelspec": {
      "display_name": "Python 3",
      "language": "python",
      "name": "python3"
    },
    "language_info": {
      "name": "python",
      "version": ""
    },
    "colab": {
      "provenance": [],
      "include_colab_link": true
    }
  },
  "nbformat": 4,
  "nbformat_minor": 0
}