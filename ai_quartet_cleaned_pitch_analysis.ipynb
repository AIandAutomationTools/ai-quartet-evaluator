{
 "cells": [
  {
   "cell_type": "markdown",
   "metadata": {},
   "source": [
    "# 🎵 AI Quartet Pitch Analysis\n",
    "This notebook compares a student's pitch to a professor's using a Google Drive MP3 link for each."
   ]
  },
  {
   "cell_type": "code",
   "execution_count": null,
   "metadata": {},
   "outputs": [],
   "source": [
    "import librosa\n",
    "import numpy as np\n",
    "import matplotlib.pyplot as plt\n",
    "import requests\n",
    "import io\n",
    "import os"
   ]
  },
  {
   "cell_type": "code",
   "execution_count": null,
   "metadata": {},
   "outputs": [],
   "source": [
    "def load_audio_from_url(url):\n",
    "    if not url:\n",
    "        raise ValueError(\"❌ Missing URL input.\")\n",
    "    try:\n",
    "        print(f\"🔗 Attempting to download: {url}\")\n",
    "        response = requests.get(url)\n",
    "        response.raise_for_status()\n",
    "        audio_data = io.BytesIO(response.content)\n",
    "        audio, sr = librosa.load(audio_data, sr=None)\n",
    "        return audio, sr\n",
    "    except Exception as e:\n",
    "        raise RuntimeError(f\"❌ Failed to load audio from {url}\\nError: {e}\")"
   ]
  },
  {
   "cell_type": "code",
   "execution_count": null,
   "metadata": {},
   "outputs": [],
   "source": [
    "# Replace with actual URLs or use os.environ.get(\"professor_url\")\n",
    "professor_url = \"https://drive.google.com/uc?export=download&id=19GFc2yNb-voEjsczGtxcK_No4XGDS7Wp\"\n",
    "student_url = \"https://drive.google.com/uc?export=download&id=1Jp3Ppinl7HRPn4XwKcMj6rFMvcfzfp1p\"\n",
    "\n",
    "print(\"Professor URL:\", professor_url)\n",
    "print(\"Student URL:\", student_url)"
   ]
  },
  {
   "cell_type": "code",
   "execution_count": null,
   "metadata": {},
   "outputs": [],
   "source": [
    "prof_audio, sr1 = load_audio_from_url(professor_url)\n",
    "stud_audio, sr2 = load_audio_from_url(student_url)\n",
    "\n",
    "# Resample if needed\n",
    "if sr1 != sr2:\n",
    "    stud_audio = librosa.resample(stud_audio, orig_sr=sr2, target_sr=sr1)\n",
    "    sr2 = sr1"
   ]
  },
  {
   "cell_type": "code",
   "execution_count": null,
   "metadata": {},
   "outputs": [],
   "source": [
    "# Use yin for monophonic pitch detection\n",
    "prof_pitch = librosa.yin(prof_audio, fmin=librosa.note_to_hz('C2'), fmax=librosa.note_to_hz('C7'), sr=sr1)\n",
    "stud_pitch = librosa.yin(stud_audio, fmin=librosa.note_to_hz('C2'), fmax=librosa.note_to_hz('C7'), sr=sr2)"
   ]
  },
  {
   "cell_type": "code",
   "execution_count": null,
   "metadata": {},
   "outputs": [],
   "source": [
    "plt.figure(figsize=(14, 5))\n",
    "plt.plot(prof_pitch, label='Professor Pitch', alpha=0.75)\n",
    "plt.plot(stud_pitch, label='Student Pitch', alpha=0.75)\n",
    "plt.legend()\n",
    "plt.title(\"Pitch Comparison\")\n",
    "plt.xlabel(\"Frame\")\n",
    "plt.ylabel(\"Pitch (Hz)\")\n",
    "plt.grid()\n",
    "plt.show()"
   ]
  },
  {
   "cell_type": "code",
   "execution_count": null,
   "metadata": {},
   "outputs": [],
   "source": [
    "prof_pitch_clean = np.nan_to_num(prof_pitch)\n",
    "stud_pitch_clean = np.nan_to_num(stud_pitch)\n",
    "pitch_diff = np.abs(prof_pitch_clean - stud_pitch_clean)\n",
    "avg_error = np.mean(pitch_diff)\n",
    "\n",
    "print(f\"\\n🎵 Average pitch difference: {avg_error:.2f} Hz\")\n",
    "if avg_error < 20:\n",
    "    print(\"🎯 Great job! Your pitch closely matches the reference.\")\n",
    "elif avg_error < 50:\n",
    "    print(\"👍 You're in the ballpark, but there’s room for improvement.\")\n",
    "else:\n",
    "    print(\"⚠️ Your pitch deviates significantly. Focus on tuning and accuracy.\")"
   ]
  }
 ],
 "metadata": {
  "kernelspec": {
   "display_name": "Python 3",
   "language": "python",
   "name": "python3"
  },
  "language_info": {
   "name": "python",
   "version": ""
  }
 },
 "nbformat": 4,
 "nbformat_minor": 2
}
