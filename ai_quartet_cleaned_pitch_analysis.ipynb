{
 "cells": [
  {
   "cell_type": "markdown",
   "metadata": {},
   "source": [
    "# 🎵 AI Quartet Pitch Comparison\n",
    "This notebook compares a student's singing to a professor's reference using pitch analysis and visualization."
   ]
  },
  {
   "cell_type": "code",
   "execution_count": null,
   "metadata": {},
   "outputs": [],
   "source": [
    "import librosa\n",
    "import numpy as np\n",
    "import matplotlib.pyplot as plt\n",
    "import requests\n",
    "import io\n",
    "import os"
   ]
  },
  {
   "cell_type": "code",
   "execution_count": null,
   "metadata": {},
   "outputs": [],
   "source": [
    "def load_audio_from_url(url):\n",
    "    if not url:\n",
    "        raise ValueError(\"❌ Missing URL input.\")\n",
    "    try:\n",
    "        print(f\"🔗 Attempting to download: {url}\")\n",
    "        response = requests.get(url)\n",
    "        response.raise_for_status()\n",
    "        audio_data = io.BytesIO(response.content)\n",
    "        audio, sr = librosa.load(audio_data, sr=None)\n",
    "        return audio, sr\n",
    "    except Exception as e:\n",
    "        raise RuntimeError(f\"❌ Failed to load audio from {url}\\nError: {e}\")"
   ]
  },
  {
   "cell_type": "code",
   "execution_count": null,
   "metadata": {},
   "outputs": [],
   "source": [
    "# Use hardcoded URLs for testing or fetch from environment\n",
    "professor_url = os.environ.get(\"professor_url\")\n",
    "student_url = os.environ.get(\"student_url\")\n",
    "# For testing only - uncomment below and paste public downloadable URLs\n",
    "# professor_url = \"https://drive.google.com/uc?export=download&id=YOUR_ID_HERE\"\n",
    "# student_url = \"https://drive.google.com/uc?export=download&id=YOUR_ID_HERE\"\n",
    "\n",
    "print(\"Professor URL:\", professor_url)\n",
    "print(\"Student URL:\", student_url)"
   ]
  },
  {
   "cell_type": "code",
   "execution_count": null,
   "metadata": {},
   "outputs": [],
   "source": [
    "prof_audio, sr1 = load_audio_from_url(professor_url)\n",
    "stud_audio, sr2 = load_audio_from_url(student_url)\n",
    "\n",
    "if sr1 != sr2:\n",
    "    stud_audio = librosa.resample(stud_audio, orig_sr=sr2, target_sr=sr1)\n",
    "    sr2 = sr1"
   ]
  },
  {
   "cell_type": "code",
   "execution_count": null,
   "metadata": {},
   "outputs": [],
   "source": [
    "prof_pitch, _ = librosa.pyin(prof_audio, fmin=librosa.note_to_hz('C2'), fmax=librosa.note_to_hz('C7'))\n",
    "stud_pitch, _ = librosa.pyin(stud_audio, fmin=librosa.note_to_hz('C2'), fmax=librosa.note_to_hz('C7'))"
   ]
  },
  {
   "cell_type": "code",
   "execution_count": null,
   "metadata": {},
   "outputs": [],
   "source": [
    "# Trim pitch arrays to the same length\n",
    "min_len = min(len(prof_pitch), len(stud_pitch))\n",
    "prof_pitch_clean = np.nan_to_num(prof_pitch[:min_len])\n",
    "stud_pitch_clean = np.nan_to_num(stud_pitch[:min_len])\n",
    "\n",
    "# Compute pitch difference\n",
    "pitch_diff = np.abs(prof_pitch_clean - stud_pitch_clean)\n",
    "avg_error = np.mean(pitch_diff)"
   ]
  },
  {
   "cell_type": "code",
   "execution_count": null,
   "metadata": {},
   "outputs": [],
   "source": [
    "# Plot the pitch contours\n",
    "plt.figure(figsize=(14, 5))\n",
    "plt.plot(prof_pitch_clean, label='Professor Pitch', alpha=0.75)\n",
    "plt.plot(stud_pitch_clean, label='Student Pitch', alpha=0.75)\n",
    "plt.legend()\n",
    "plt.title(\"Pitch Comparison\")\n",
    "plt.xlabel(\"Frame\")\n",
    "plt.ylabel(\"Pitch (Hz)\")\n",
    "plt.grid(True)\n",
    "plt.show()"
   ]
  },
  {
   "cell_type": "code",
   "execution_count": null,
   "metadata": {},
   "outputs": [],
   "source": [
    "print(f\"\n🎵 Average pitch difference: {avg_error:.2f} Hz\")\n",
    "if avg_error < 20:\n",
    "    print(\"🎯 Great job! Your pitch closely matches the reference.\")\n",
    "elif avg_error < 50:\n",
    "    print(\"👍 You're in the ballpark, but there’s room for improvement.\")\n",
    "else:\n",
    "    print(\"⚠️ Your pitch deviates significantly. Focus on tuning and accuracy.\")"
   ]
  }
 ],
 "metadata": {
  "kernelspec": {
   "display_name": "Python 3",
   "language": "python",
   "name": "python3"
  },
  "language_info": {
   "name": "python",
   "version": ""
  }
 },
 "nbformat": 4,
 "nbformat_minor": 2
}