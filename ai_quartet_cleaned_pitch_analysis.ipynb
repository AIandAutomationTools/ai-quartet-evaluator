{
  "cells": [
    {
      "cell_type": "markdown",
      "metadata": {
        "id": "kDBRBI1YBTAO"
      },
      "source": [
        "# 🎵 AI Quartet Pitch Comparison\n",
        "This notebook compares a student's singing to a professor's reference using pitch analysis and visualization."
      ]
    },
    {
      "cell_type": "code",
      "execution_count": 5,
      "metadata": {
        "id": "9d9_NpjABTAQ"
      },
      "outputs": [],
      "source": [
        "import librosa\n",
        "import numpy as np\n",
        "import matplotlib.pyplot as plt\n",
        "import requests\n",
        "import io\n",
        "import os"
      ]
    },
    {
      "cell_type": "code",
      "execution_count": 6,
      "metadata": {
        "id": "YWNDAmobBTAR"
      },
      "outputs": [],
      "source": [
        "def load_audio_from_url(url):\n",
        "    if not url:\n",
        "        raise ValueError(\"❌ Missing URL input.\")\n",
        "    try:\n",
        "        print(f\"🔗 Attempting to download: {url}\")\n",
        "        response = requests.get(url)\n",
        "        response.raise_for_status()\n",
        "        audio_data = io.BytesIO(response.content)\n",
        "        audio, sr = librosa.load(audio_data, sr=None)\n",
        "        return audio, sr\n",
        "    except Exception as e:\n",
        "        raise RuntimeError(f\"❌ Failed to load audio from {url}\\nError: {e}\")"
      ]
    },
    {
      "cell_type": "code",
      "execution_count": 7,
      "metadata": {
        "id": "JshUM9X6BTAS",
        "outputId": "5e35e355-6510-46d1-c131-d5775282e247",
        "colab": {
          "base_uri": "https://localhost:8080/"
        }
      },
      "outputs": [
        {
          "output_type": "stream",
          "name": "stdout",
          "text": [
            "Professor URL: None\n",
            "Student URL: None\n"
          ]
        }
      ],
      "source": [
        "# Get URLs from environment variables (used by Zapier/Colab)\n",
        "professor_url = os.environ.get(\"professor_url\")\n",
        "student_url = os.environ.get(\"student_url\")\n",
        "print(\"Professor URL:\", professor_url)\n",
        "print(\"Student URL:\", student_url)\n"
      ]
    },
    {
      "cell_type": "code",
      "execution_count": 8,
      "metadata": {
        "id": "DhjnifZdBTAT",
        "outputId": "cc106dc3-868e-492c-e10c-601d254bc45c",
        "colab": {
          "base_uri": "https://localhost:8080/",
          "height": 332
        }
      },
      "outputs": [
        {
          "output_type": "error",
          "ename": "ValueError",
          "evalue": "❌ Missing URL input.",
          "traceback": [
            "\u001b[0;31m---------------------------------------------------------------------------\u001b[0m",
            "\u001b[0;31mValueError\u001b[0m                                Traceback (most recent call last)",
            "\u001b[0;32m<ipython-input-8-1235737072>\u001b[0m in \u001b[0;36m<cell line: 0>\u001b[0;34m()\u001b[0m\n\u001b[0;32m----> 1\u001b[0;31m \u001b[0mprof_audio\u001b[0m\u001b[0;34m,\u001b[0m \u001b[0msr1\u001b[0m \u001b[0;34m=\u001b[0m \u001b[0mload_audio_from_url\u001b[0m\u001b[0;34m(\u001b[0m\u001b[0mprofessor_url\u001b[0m\u001b[0;34m)\u001b[0m\u001b[0;34m\u001b[0m\u001b[0;34m\u001b[0m\u001b[0m\n\u001b[0m\u001b[1;32m      2\u001b[0m \u001b[0mstud_audio\u001b[0m\u001b[0;34m,\u001b[0m \u001b[0msr2\u001b[0m \u001b[0;34m=\u001b[0m \u001b[0mload_audio_from_url\u001b[0m\u001b[0;34m(\u001b[0m\u001b[0mstudent_url\u001b[0m\u001b[0;34m)\u001b[0m\u001b[0;34m\u001b[0m\u001b[0;34m\u001b[0m\u001b[0m\n\u001b[1;32m      3\u001b[0m \u001b[0;34m\u001b[0m\u001b[0m\n\u001b[1;32m      4\u001b[0m \u001b[0;32mif\u001b[0m \u001b[0msr1\u001b[0m \u001b[0;34m!=\u001b[0m \u001b[0msr2\u001b[0m\u001b[0;34m:\u001b[0m\u001b[0;34m\u001b[0m\u001b[0;34m\u001b[0m\u001b[0m\n\u001b[1;32m      5\u001b[0m     \u001b[0mstud_audio\u001b[0m \u001b[0;34m=\u001b[0m \u001b[0mlibrosa\u001b[0m\u001b[0;34m.\u001b[0m\u001b[0mresample\u001b[0m\u001b[0;34m(\u001b[0m\u001b[0mstud_audio\u001b[0m\u001b[0;34m,\u001b[0m \u001b[0morig_sr\u001b[0m\u001b[0;34m=\u001b[0m\u001b[0msr2\u001b[0m\u001b[0;34m,\u001b[0m \u001b[0mtarget_sr\u001b[0m\u001b[0;34m=\u001b[0m\u001b[0msr1\u001b[0m\u001b[0;34m)\u001b[0m\u001b[0;34m\u001b[0m\u001b[0;34m\u001b[0m\u001b[0m\n",
            "\u001b[0;32m<ipython-input-6-1593677750>\u001b[0m in \u001b[0;36mload_audio_from_url\u001b[0;34m(url)\u001b[0m\n\u001b[1;32m      1\u001b[0m \u001b[0;32mdef\u001b[0m \u001b[0mload_audio_from_url\u001b[0m\u001b[0;34m(\u001b[0m\u001b[0murl\u001b[0m\u001b[0;34m)\u001b[0m\u001b[0;34m:\u001b[0m\u001b[0;34m\u001b[0m\u001b[0;34m\u001b[0m\u001b[0m\n\u001b[1;32m      2\u001b[0m     \u001b[0;32mif\u001b[0m \u001b[0;32mnot\u001b[0m \u001b[0murl\u001b[0m\u001b[0;34m:\u001b[0m\u001b[0;34m\u001b[0m\u001b[0;34m\u001b[0m\u001b[0m\n\u001b[0;32m----> 3\u001b[0;31m         \u001b[0;32mraise\u001b[0m \u001b[0mValueError\u001b[0m\u001b[0;34m(\u001b[0m\u001b[0;34m\"❌ Missing URL input.\"\u001b[0m\u001b[0;34m)\u001b[0m\u001b[0;34m\u001b[0m\u001b[0;34m\u001b[0m\u001b[0m\n\u001b[0m\u001b[1;32m      4\u001b[0m     \u001b[0;32mtry\u001b[0m\u001b[0;34m:\u001b[0m\u001b[0;34m\u001b[0m\u001b[0;34m\u001b[0m\u001b[0m\n\u001b[1;32m      5\u001b[0m         \u001b[0mprint\u001b[0m\u001b[0;34m(\u001b[0m\u001b[0;34mf\"🔗 Attempting to download: {url}\"\u001b[0m\u001b[0;34m)\u001b[0m\u001b[0;34m\u001b[0m\u001b[0;34m\u001b[0m\u001b[0m\n",
            "\u001b[0;31mValueError\u001b[0m: ❌ Missing URL input."
          ]
        }
      ],
      "source": [
        "# Load audio files\n",
        "prof_audio, sr1 = load_audio_from_url(professor_url)\n",
        "stud_audio, sr2 = load_audio_from_url(student_url)\n",
        "\n",
        "# Resample if needed\n",
        "if sr1 != sr2:\n",
        "    stud_audio = librosa.resample(stud_audio, orig_sr=sr2, target_sr=sr1)\n",
        "    sr2 = sr1"
      ]
    },
    {
      "cell_type": "code",
      "execution_count": null,
      "metadata": {
        "id": "SwZCYlUSBTAT"
      },
      "outputs": [],
      "source": [
        "# Extract pitch using yin (more robust and stable than pyin)\n",
        "prof_pitch = librosa.yin(prof_audio, fmin=librosa.note_to_hz('C2'), fmax=librosa.note_to_hz('C7'), sr=sr1)\n",
        "stud_pitch = librosa.yin(stud_audio, fmin=librosa.note_to_hz('C2'), fmax=librosa.note_to_hz('C7'), sr=sr2)\n"
      ]
    },
    {
      "cell_type": "code",
      "execution_count": null,
      "metadata": {
        "id": "aErVNHjmBTAU"
      },
      "outputs": [],
      "source": [
        "# Plot pitch comparison\n",
        "plt.figure(figsize=(14, 5))\n",
        "plt.plot(prof_pitch, label='Professor Pitch', alpha=0.75)\n",
        "plt.plot(stud_pitch, label='Student Pitch', alpha=0.75)\n",
        "plt.legend()\n",
        "plt.title(\"Pitch Comparison\")\n",
        "plt.xlabel(\"Frame\")\n",
        "plt.ylabel(\"Pitch (Hz)\")\n",
        "plt.grid(True)\n",
        "plt.show()\n",
        "\n",
        "# Trim pitch arrays to the same length\n",
        "min_len = min(len(prof_pitch), len(stud_pitch))\n",
        "prof_pitch_clean = np.nan_to_num(prof_pitch[:min_len])\n",
        "stud_pitch_clean = np.nan_to_num(stud_pitch[:min_len])\n",
        "\n",
        "# Basic pitch error analysis\n",
        "pitch_diff = np.abs(prof_pitch - stud_pitch[:len(prof_pitch)])\n",
        "avg_error = np.mean(pitch_diff)\n",
        "\n"
      ]
    },
    {
      "cell_type": "code",
      "execution_count": null,
      "metadata": {
        "id": "6G9hbAyjBTAU"
      },
      "outputs": [],
      "source": [
        "# Plot the pitch contours\n",
        "plt.figure(figsize=(14, 5))\n",
        "plt.plot(prof_pitch_clean, label='Professor Pitch', alpha=0.75)\n",
        "plt.plot(stud_pitch_clean, label='Student Pitch', alpha=0.75)\n",
        "plt.legend()\n",
        "plt.title(\"Pitch Comparison\")\n",
        "plt.xlabel(\"Frame\")\n",
        "plt.ylabel(\"Pitch (Hz)\")\n",
        "plt.grid(True)\n",
        "plt.show()"
      ]
    },
    {
      "cell_type": "code",
      "execution_count": null,
      "metadata": {
        "id": "e1Jer8e0BTAV"
      },
      "outputs": [],
      "source": [
        "print(f\"\\n🎵 Average pitch difference: {avg_error:.2f} Hz\")\n",
        "if avg_error < 20:\n",
        "    print(\"🎯 Great job! Your pitch closely matches the reference.\")\n",
        "elif avg_error < 50:\n",
        "    print(\"👍 You're in the ballpark, but there’s room for improvement.\")\n",
        "else:\n",
        "    print(\"⚠️ Your pitch deviates significantly. Focus on tuning and accuracy.\")\n",
        "\n",
        "\n"
      ]
    }
  ],
  "metadata": {
    "kernelspec": {
      "display_name": "Python 3",
      "language": "python",
      "name": "python3"
    },
    "language_info": {
      "name": "python",
      "version": ""
    },
    "colab": {
      "provenance": []
    }
  },
  "nbformat": 4,
  "nbformat_minor": 0
}