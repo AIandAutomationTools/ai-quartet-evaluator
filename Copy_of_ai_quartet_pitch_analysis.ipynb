{
  "cells": [
    {
      "cell_type": "markdown",
      "metadata": {
        "id": "view-in-github",
        "colab_type": "text"
      },
      "source": [
        "<a href=\"https://colab.research.google.com/github/AIandAutomationTools/ai-quartet-evaluator/blob/main/Copy_of_ai_quartet_pitch_analysis.ipynb\" target=\"_parent\"><img src=\"https://colab.research.google.com/assets/colab-badge.svg\" alt=\"Open In Colab\"/></a>"
      ]
    },
    {
      "cell_type": "code",
      "source": [
        "import os\n",
        "\n",
        "professor_url = os.environ.get(\"professor_url\", None)\n",
        "student_url = os.environ.get(\"student_url\", None)\n",
        "\n",
        "print(\"Professor URL:\", professor_url)\n",
        "print(\"Student URL:\", student_url)\n"
      ],
      "metadata": {
        "id": "q8bhpqKurIEx",
        "colab": {
          "base_uri": "https://localhost:8080/"
        },
        "outputId": "0a524a5d-e568-4b1b-c4e5-32f1d23e90d7"
      },
      "execution_count": null,
      "outputs": [
        {
          "output_type": "stream",
          "name": "stdout",
          "text": [
            "Professor URL: None\n",
            "Student URL: None\n"
          ]
        }
      ]
    },
    {
      "cell_type": "code",
      "source": [],
      "metadata": {
        "id": "no08CVbVDoMj"
      },
      "execution_count": null,
      "outputs": []
    },
    {
      "cell_type": "code",
      "source": [],
      "metadata": {
        "id": "Chk7T0emgGd-"
      },
      "execution_count": null,
      "outputs": []
    },
    {
      "cell_type": "code",
      "source": [],
      "metadata": {
        "id": "ZfK3K1Ptqk76"
      },
      "execution_count": null,
      "outputs": []
    },
    {
      "cell_type": "markdown",
      "source": [],
      "metadata": {
        "id": "lZ412gOwqlie"
      }
    },
    {
      "cell_type": "code",
      "source": [],
      "metadata": {
        "id": "wFb7-lOwqmin"
      },
      "execution_count": null,
      "outputs": []
    },
    {
      "cell_type": "code",
      "source": [
        "import librosa\n",
        "import numpy as np\n",
        "import matplotlib.pyplot as plt\n",
        "import requests\n",
        "import io\n",
        "\n",
        " def load_audio_from_url(url):\n",
        "    if url is None:\n",
        "        raise ValueError(\"❌ The URL is missing. Make sure it's passed correctly from Zapier.\")\n",
        "    print(\"🔗 Downloading from URL:\", url)\n",
        "    response = requests.get(url)\n",
        "    ...\n",
        "\n",
        "def load_audio_from_url(url):\n",
        "\n",
        "    response = requests.get(url)\n",
        "    audio_data, sr = librosa.load(io.BytesIO(response.content), sr=None)\n",
        "    return audio_data, sr\n",
        "\n",
        "# Load audio\n",
        "prof_audio, sr1 = load_audio_from_url(professor_url)\n",
        "stud_audio, sr2 = load_audio_from_url(student_url)\n",
        "\n",
        "# Resample if needed\n",
        "if sr1 != sr2:\n",
        "    stud_audio = librosa.resample(stud_audio, orig_sr=sr2, target_sr=sr1)\n",
        "    sr2 = sr1\n",
        "\n",
        "# Extract pitch\n",
        "prof_pitch, _ = librosa.pyin(prof_audio, fmin=librosa.note_to_hz('C2'), fmax=librosa.note_to_hz('C7'))\n",
        "stud_pitch, _ = librosa.pyin(stud_audio, fmin=librosa.note_to_hz('C2'), fmax=librosa.note_to_hz('C7'))\n",
        "\n",
        "# Plot pitch comparison\n",
        "plt.figure(figsize=(14, 5))\n",
        "plt.plot(prof_pitch, label='Professor Pitch', alpha=0.75)\n",
        "plt.plot(stud_pitch, label='Student Pitch', alpha=0.75)\n",
        "plt.legend()\n",
        "plt.title(\"Pitch Comparison\")\n",
        "plt.xlabel(\"Frame\")\n",
        "plt.ylabel(\"Pitch (Hz)\")\n",
        "plt.show()\n",
        "\n",
        "# Basic pitch error analysis\n",
        "prof_pitch_clean = np.nan_to_num(prof_pitch)\n",
        "stud_pitch_clean = np.nan_to_num(stud_pitch)\n",
        "pitch_diff = np.abs(prof_pitch_clean - stud_pitch_clean)\n",
        "avg_error = np.mean(pitch_diff)\n",
        "\n",
        "print(f\"\\n🎵 Average pitch difference: {avg_error:.2f} Hz\")\n",
        "if avg_error < 20:\n",
        "    print(\"🎯 Great job! Your pitch closely matches the reference.\")\n",
        "elif avg_error < 50:\n",
        "    print(\"👍 You're in the ballpark, but there’s room for improvement.\")\n",
        "else:\n",
        "    print(\"⚠️ Your pitch deviates significantly. Focus on tuning and accuracy.\")\n"
      ],
      "metadata": {
        "id": "ImVHxDlSzkPG",
        "colab": {
          "base_uri": "https://localhost:8080/",
          "height": 106
        },
        "outputId": "64623b45-e091-49ee-f468-8be096421b07"
      },
      "execution_count": null,
      "outputs": [
        {
          "output_type": "error",
          "ename": "IndentationError",
          "evalue": "unexpected indent (<ipython-input-20-3055629964>, line 7)",
          "traceback": [
            "\u001b[0;36m  File \u001b[0;32m\"<ipython-input-20-3055629964>\"\u001b[0;36m, line \u001b[0;32m7\u001b[0m\n\u001b[0;31m    def load_audio_from_url(url):\u001b[0m\n\u001b[0m    ^\u001b[0m\n\u001b[0;31mIndentationError\u001b[0m\u001b[0;31m:\u001b[0m unexpected indent\n"
          ]
        }
      ]
    },
    {
      "cell_type": "code",
      "execution_count": null,
      "metadata": {
        "id": "OBN1ucp_s9QR"
      },
      "outputs": [],
      "source": [
        "# Install dependencies\n",
        "!pip install librosa matplotlib numpy requests"
      ]
    },
    {
      "cell_type": "code",
      "execution_count": null,
      "metadata": {
        "id": "5TU8VjJUs9QU"
      },
      "outputs": [],
      "source": [
        "import librosa\n",
        "import librosa.display\n",
        "import matplotlib.pyplot as plt\n",
        "import numpy as np\n",
        "import requests\n",
        "import io\n",
        "\n",
        "def load_audio_from_url(url):\n",
        "    response = requests.get(url)\n",
        "    audio_data, sr = librosa.load(io.BytesIO(response.content), sr=None)\n",
        "    return audio_data, sr"
      ]
    },
    {
      "cell_type": "code",
      "execution_count": null,
      "metadata": {
        "id": "vENSUOLMs9QV"
      },
      "outputs": [],
      "source": [
        "from urllib.parse import parse_qs\n",
        "from IPython.display import Javascript\n",
        "import IPython\n",
        "\n",
        "# Parse query parameters from the URL\n",
        "# query_params = parse_qs(IPython.display.get_ipython().user_ns.get('IPython').get_ipython().getoutput('echo $COLAB_GPU'))\n",
        "params_code = \"\"\"\n",
        "IPython.notebook.kernel.execute('params = ' + JSON.stringify(Object.fromEntries(new URLSearchParams(window.location.search))))\n",
        "\"\"\"\n",
        "display(Javascript(params_code))\n",
        "\n",
        "\n",
        "\n",
        "# Load audio\n",
        "prof_audio, sr1 = load_audio_from_url(professor_url)\n",
        "stud_audio, sr2 = load_audio_from_url(student_url)\n",
        "\n",
        "# Resample if needed\n",
        "if sr1 != sr2:\n",
        "    stud_audio = librosa.resample(stud_audio, orig_sr=sr2, target_sr=sr1)\n",
        "    sr2 = sr1"
      ]
    },
    {
      "cell_type": "code",
      "source": [
        "try:\n",
        "    professor_url = params.get('professor_url', [''])[0]\n",
        "    student_url = params.get('student_url', [''])[0]\n",
        "    print(\"Professor URL:\", professor_url)\n",
        "    print(\"Student URL:\", student_url)\n",
        "except:\n",
        "    print(\"Could not retrieve URLs from the link. Please make sure it contains ?student_url=...&professor_url=...\")\n"
      ],
      "metadata": {
        "id": "__V91k3ro9ri"
      },
      "execution_count": null,
      "outputs": []
    },
    {
      "cell_type": "code",
      "source": [],
      "metadata": {
        "id": "6rpzTiLPrDMq"
      },
      "execution_count": null,
      "outputs": []
    },
    {
      "cell_type": "code",
      "execution_count": null,
      "metadata": {
        "id": "e0EFrQ4Cs9QW"
      },
      "outputs": [],
      "source": [
        "# Plot waveforms\n",
        "plt.figure(figsize=(14, 5))\n",
        "librosa.display.waveshow(prof_audio, sr=sr1, alpha=0.5, label='Professor')\n",
        "librosa.display.waveshow(stud_audio, sr=sr2, alpha=0.5, color='r', label='Student')\n",
        "plt.title(\"Waveform Comparison\")\n",
        "plt.legend()\n",
        "plt.show()"
      ]
    },
    {
      "cell_type": "code",
      "execution_count": null,
      "metadata": {
        "id": "9R8vJnjBs9QW"
      },
      "outputs": [],
      "source": [
        "# Extract pitch (fundamental frequency)\n",
        "prof_pitch, voiced_flag, voiced_probs = librosa.pyin(prof_audio, fmin=librosa.note_to_hz('C2'), fmax=librosa.note_to_hz('C7'))\n",
        "stud_pitch, voiced_flag, voiced_probs = librosa.pyin(stud_audio, fmin=librosa.note_to_hz('C2'), fmax=librosa.note_to_hz('C7'))\n",
        "\n",
        "\n",
        "# Create pitch comparison plot\n",
        "plt.figure(figsize=(14, 5))\n",
        "plt.plot(prof_pitch, label='Professor Pitch')\n",
        "plt.plot(stud_pitch, label='Student Pitch', alpha=0.7)\n",
        "plt.title(\"Pitch Comparison\")\n",
        "plt.xlabel(\"Frame\")\n",
        "plt.ylabel(\"Frequency (Hz)\")\n",
        "plt.legend()\n",
        "plt.show()"
      ]
    },
    {
      "cell_type": "code",
      "execution_count": null,
      "metadata": {
        "id": "JyrJS58hs9QX"
      },
      "outputs": [],
      "source": [
        "# Compare average pitch values\n",
        "prof_avg = np.nanmean(prof_pitch)\n",
        "stud_avg = np.nanmean(stud_pitch)\n",
        "pitch_diff = abs(prof_avg - stud_avg)\n",
        "print(f\"Professor Avg Pitch: {prof_avg:.2f} Hz\")\n",
        "print(f\"Student Avg Pitch: {stud_avg:.2f} Hz\")\n",
        "print(f\"Pitch Difference: {pitch_diff:.2f} Hz\")\n",
        "\n",
        "# Feedback\n",
        "if pitch_diff < 20:\n",
        "    print(\"✅ Great job! Student pitch closely matches the professor.\")\n",
        "elif pitch_diff < 50:\n",
        "    print(\"🟡 Good attempt, but noticeable pitch differences.\")\n",
        "else:\n",
        "    print(\"🔴 Consider practicing more to match the pitch.\")"
      ]
    }
  ],
  "metadata": {
    "kernelspec": {
      "display_name": "Python 3",
      "language": "python",
      "name": "python3"
    },
    "language_info": {
      "name": "python"
    },
    "colab": {
      "provenance": [],
      "include_colab_link": true
    }
  },
  "nbformat": 4,
  "nbformat_minor": 0
}