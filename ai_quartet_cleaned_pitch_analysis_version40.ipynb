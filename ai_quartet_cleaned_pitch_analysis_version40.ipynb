{
  "cells": [
    {
      "cell_type": "markdown",
      "metadata": {
        "id": "view-in-github",
        "colab_type": "text"
      },
      "source": [
        "<a href=\"https://colab.research.google.com/github/AIandAutomationTools/ai-quartet-evaluator/blob/main/ai_quartet_cleaned_pitch_analysis_version40.ipynb\" target=\"_parent\"><img src=\"https://colab.research.google.com/assets/colab-badge.svg\" alt=\"Open In Colab\"/></a>"
      ]
    },
    {
      "cell_type": "markdown",
      "metadata": {
        "id": "065CRwZyVw1j"
      },
      "source": [
        "# 🎵 AI Quartet Pitch Analysis\n",
        "This notebook compares a student's pitch to a professor's using a Google Drive MP3 link for each."
      ]
    },
    {
      "cell_type": "code",
      "source": [
        "# 📌 Paste URLs here if not auto-filled\n",
        "\n",
        "# Student URL (e.g., https://drive.google.com/uc?export=download&id=...)\n",
        "student_url = \"https://drive.google.com/uc?export=download&id=15MRshVMuFLa5Jzrjk6DiL-R1t6u-msjK\"  # <--- Paste student file URL between the quotes\n",
        "\n",
        "# Professor URL (e.g., https://drive.google.com/uc?export=download&id=...)\n",
        "professor_url = \"https://drive.google.com/uc?export=download&id=19GFc2yNb-voEjsczGtxcK_No4XGDS7Wp\"  # <--- Paste professor file URL here\n"
      ],
      "metadata": {
        "id": "FjWfcBB95oPT"
      },
      "execution_count": null,
      "outputs": []
    },
    {
      "cell_type": "code",
      "source": [
        "print(\"Student URL:\", student_url)\n",
        "print(\"Professor URL:\", professor_url)\n"
      ],
      "metadata": {
        "id": "IWBdwX5hs5Pz",
        "outputId": "1752d814-7676-40f7-d716-4a953d422eb2",
        "colab": {
          "base_uri": "https://localhost:8080/"
        }
      },
      "execution_count": null,
      "outputs": [
        {
          "output_type": "stream",
          "name": "stdout",
          "text": [
            "Student URL: https://drive.google.com/uc?export=download&id=15MRshVMuFLa5Jzrjk6DiL-R1t6u-msjK\n",
            "Professor URL: https://drive.google.com/uc?export=download&id=19GFc2yNb-voEjsczGtxcK_No4XGDS7Wp\n"
          ]
        }
      ]
    },
    {
      "cell_type": "code",
      "execution_count": null,
      "metadata": {
        "id": "oidVLKHAVw1m",
        "colab": {
          "base_uri": "https://localhost:8080/"
        },
        "outputId": "a6189a80-0436-4069-c31e-4508d47182b1"
      },
      "outputs": [
        {
          "output_type": "stream",
          "name": "stdout",
          "text": [
            "🔗 Downloading audio from: https://drive.google.com/uc?export=download&id=19GFc2yNb-voEjsczGtxcK_No4XGDS7Wp\n",
            "🔗 Downloading audio from: https://drive.google.com/uc?export=download&id=15MRshVMuFLa5Jzrjk6DiL-R1t6u-msjK\n"
          ]
        }
      ],
      "source": [
        "# Example usage of student_url and professor_url\n",
        "import librosa\n",
        "import numpy as np\n",
        "import matplotlib.pyplot as plt\n",
        "import requests\n",
        "import io\n",
        "\n",
        "def load_audio_from_url(url):\n",
        "    print(f\"🔗 Downloading audio from: {url}\")\n",
        "    response = requests.get(url)\n",
        "    response.raise_for_status()\n",
        "    audio_data = io.BytesIO(response.content)\n",
        "    audio, sr = librosa.load(audio_data, sr=None)\n",
        "    return audio, sr\n",
        "\n",
        "# Load audio files\n",
        "prof_audio, sr1 = load_audio_from_url(professor_url)\n",
        "stud_audio, sr2 = load_audio_from_url(student_url)\n",
        "\n",
        "# Continue with your pitch comparison logic...\n"
      ]
    },
    {
      "cell_type": "code",
      "execution_count": null,
      "metadata": {
        "id": "attsD8rdVw1n",
        "colab": {
          "base_uri": "https://localhost:8080/",
          "height": 379
        },
        "outputId": "919ddc12-2216-42f8-d766-d0861565aa88"
      },
      "outputs": [
        {
          "output_type": "display_data",
          "data": {
            "text/plain": [
              "<IPython.core.display.Javascript object>"
            ],
            "application/javascript": [
              "\n",
              "(async () => {\n",
              "  const urlParams = new URLSearchParams(window.location.search);\n",
              "  const student = urlParams.get(\"student_url\");\n",
              "  const professor = urlParams.get(\"professor_url\");\n",
              "\n",
              "  if (student && professor) {\n",
              "    google.colab.kernel.invokeFunction('notebook.set_urls', [student, professor], {});\n",
              "    document.body.insertAdjacentHTML(\"afterbegin\", \"<p style='color:green'><b>✅ Notebook loaded and URLs sent!</b></p>\");\n",
              "  } else {\n",
              "    document.body.insertAdjacentHTML(\"afterbegin\", \"<p style='color:red'><b>❌ Missing student or professor URL. Please run this notebook using the correct link.</b></p>\");\n",
              "  }\n",
              "})();\n"
            ]
          },
          "metadata": {}
        },
        {
          "output_type": "error",
          "ename": "TypeError",
          "evalue": "can only concatenate str (not \"NoneType\") to str",
          "traceback": [
            "\u001b[0;31m---------------------------------------------------------------------------\u001b[0m",
            "\u001b[0;31mTypeError\u001b[0m                                 Traceback (most recent call last)",
            "\u001b[0;32m/usr/local/lib/python3.11/dist-packages/IPython/core/formatters.py\u001b[0m in \u001b[0;36m__call__\u001b[0;34m(self, obj)\u001b[0m\n\u001b[1;32m    343\u001b[0m             \u001b[0mmethod\u001b[0m \u001b[0;34m=\u001b[0m \u001b[0mget_real_method\u001b[0m\u001b[0;34m(\u001b[0m\u001b[0mobj\u001b[0m\u001b[0;34m,\u001b[0m \u001b[0mself\u001b[0m\u001b[0;34m.\u001b[0m\u001b[0mprint_method\u001b[0m\u001b[0;34m)\u001b[0m\u001b[0;34m\u001b[0m\u001b[0;34m\u001b[0m\u001b[0m\n\u001b[1;32m    344\u001b[0m             \u001b[0;32mif\u001b[0m \u001b[0mmethod\u001b[0m \u001b[0;32mis\u001b[0m \u001b[0;32mnot\u001b[0m \u001b[0;32mNone\u001b[0m\u001b[0;34m:\u001b[0m\u001b[0;34m\u001b[0m\u001b[0;34m\u001b[0m\u001b[0m\n\u001b[0;32m--> 345\u001b[0;31m                 \u001b[0;32mreturn\u001b[0m \u001b[0mmethod\u001b[0m\u001b[0;34m(\u001b[0m\u001b[0;34m)\u001b[0m\u001b[0;34m\u001b[0m\u001b[0;34m\u001b[0m\u001b[0m\n\u001b[0m\u001b[1;32m    346\u001b[0m             \u001b[0;32mreturn\u001b[0m \u001b[0;32mNone\u001b[0m\u001b[0;34m\u001b[0m\u001b[0;34m\u001b[0m\u001b[0m\n\u001b[1;32m    347\u001b[0m         \u001b[0;32melse\u001b[0m\u001b[0;34m:\u001b[0m\u001b[0;34m\u001b[0m\u001b[0;34m\u001b[0m\u001b[0m\n",
            "\u001b[0;32m/usr/local/lib/python3.11/dist-packages/IPython/core/display.py\u001b[0m in \u001b[0;36m_repr_javascript_\u001b[0;34m(self)\u001b[0m\n\u001b[1;32m   1062\u001b[0m         \u001b[0;32mfor\u001b[0m \u001b[0ml\u001b[0m \u001b[0;32min\u001b[0m \u001b[0mself\u001b[0m\u001b[0;34m.\u001b[0m\u001b[0mlib\u001b[0m\u001b[0;34m:\u001b[0m\u001b[0;34m\u001b[0m\u001b[0;34m\u001b[0m\u001b[0m\n\u001b[1;32m   1063\u001b[0m             \u001b[0mr\u001b[0m \u001b[0;34m+=\u001b[0m \u001b[0m_lib_t1\u001b[0m \u001b[0;34m%\u001b[0m \u001b[0ml\u001b[0m\u001b[0;34m\u001b[0m\u001b[0;34m\u001b[0m\u001b[0m\n\u001b[0;32m-> 1064\u001b[0;31m         \u001b[0mr\u001b[0m \u001b[0;34m+=\u001b[0m \u001b[0mself\u001b[0m\u001b[0;34m.\u001b[0m\u001b[0mdata\u001b[0m\u001b[0;34m\u001b[0m\u001b[0;34m\u001b[0m\u001b[0m\n\u001b[0m\u001b[1;32m   1065\u001b[0m         \u001b[0mr\u001b[0m \u001b[0;34m+=\u001b[0m \u001b[0m_lib_t2\u001b[0m\u001b[0;34m*\u001b[0m\u001b[0mlen\u001b[0m\u001b[0;34m(\u001b[0m\u001b[0mself\u001b[0m\u001b[0;34m.\u001b[0m\u001b[0mlib\u001b[0m\u001b[0;34m)\u001b[0m\u001b[0;34m\u001b[0m\u001b[0;34m\u001b[0m\u001b[0m\n\u001b[1;32m   1066\u001b[0m         \u001b[0;32mreturn\u001b[0m \u001b[0mr\u001b[0m\u001b[0;34m\u001b[0m\u001b[0;34m\u001b[0m\u001b[0m\n",
            "\u001b[0;31mTypeError\u001b[0m: can only concatenate str (not \"NoneType\") to str"
          ]
        },
        {
          "output_type": "display_data",
          "data": {
            "text/plain": [
              "<IPython.core.display.Javascript object>"
            ]
          },
          "metadata": {}
        }
      ],
      "source": [
        "from google.colab import output\n",
        "from IPython.display import Javascript, display\n",
        "\n",
        "# Global variables to hold the URLs\n",
        "student_url = \"\"\n",
        "professor_url = \"\"\n",
        "\n",
        "# Register the callback to receive URLs from JavaScript\n",
        "def set_urls(student, professor):\n",
        "    global student_url, professor_url\n",
        "    student_url = student\n",
        "    professor_url = professor\n",
        "    print(\"✅ Student URL:\", student_url)\n",
        "    print(\"✅ Professor URL:\", professor_url)\n",
        "\n",
        "output.register_callback('notebook.set_urls', set_urls)\n",
        "\n",
        "# Correct usage: define the JS string, then pass it to display(Javascript(...))\n",
        "js_code = \"\"\"\n",
        "(async () => {\n",
        "  const urlParams = new URLSearchParams(window.location.search);\n",
        "  const student = urlParams.get(\"student_url\");\n",
        "  const professor = urlParams.get(\"professor_url\");\n",
        "\n",
        "  if (student && professor) {\n",
        "    google.colab.kernel.invokeFunction('notebook.set_urls', [student, professor], {});\n",
        "    document.body.insertAdjacentHTML(\"afterbegin\", \"<p style='color:green'><b>✅ Notebook loaded and URLs sent!</b></p>\");\n",
        "  } else {\n",
        "    document.body.insertAdjacentHTML(\"afterbegin\", \"<p style='color:red'><b>❌ Missing student or professor URL. Please run this notebook using the correct link.</b></p>\");\n",
        "  }\n",
        "})();\n",
        "\"\"\"\n",
        "\n",
        "# Now correctly display the JS\n",
        "display(Javascript(js_code))\n",
        "\n",
        "\n",
        "\n"
      ]
    },
    {
      "cell_type": "code",
      "execution_count": null,
      "metadata": {
        "id": "EwKmrcKJVw1o"
      },
      "outputs": [],
      "source": [
        "import time\n",
        "\n",
        "# Wait up to 5 seconds for values to be set\n",
        "for _ in range(10):\n",
        "    if student_url and professor_url:\n",
        "        break\n",
        "    time.sleep(0.5)\n",
        "\n",
        "# Check if values are present\n",
        "if not student_url or not professor_url:\n",
        "    raise ValueError(\"❌ Missing one or both URLs. Please ensure they are passed in the notebook link.\")\n",
        "else:\n",
        "    print(\"✅ URLs successfully loaded.\")\n",
        "    print(\"Professor URL:\", professor_url)\n",
        "    print(\"Student URL:\", student_url)\n",
        "\n",
        "\n",
        "prof_audio, sr1 = load_audio_from_url(professor_url)\n",
        "stud_audio, sr2 = load_audio_from_url(student_url)\n",
        "\n",
        "# Resample if needed\n",
        "if sr1 != sr2:\n",
        "    stud_audio = librosa.resample(stud_audio, orig_sr=sr2, target_sr=sr1)\n",
        "    sr2 = sr1"
      ]
    },
    {
      "cell_type": "code",
      "execution_count": null,
      "metadata": {
        "id": "oO4QQ5VFVw1p"
      },
      "outputs": [],
      "source": [
        "# Use yin for monophonic pitch detection\n",
        "prof_pitch = librosa.yin(prof_audio, fmin=librosa.note_to_hz('C2'), fmax=librosa.note_to_hz('C7'), sr=sr1)\n",
        "stud_pitch = librosa.yin(stud_audio, fmin=librosa.note_to_hz('C2'), fmax=librosa.note_to_hz('C7'), sr=sr2)"
      ]
    },
    {
      "cell_type": "code",
      "execution_count": null,
      "metadata": {
        "id": "WRAPSouZVw1q"
      },
      "outputs": [],
      "source": [
        "plt.figure(figsize=(14, 5))\n",
        "plt.plot(prof_pitch, label='Professor Pitch', alpha=0.75)\n",
        "plt.plot(stud_pitch, label='Student Pitch', alpha=0.75)\n",
        "plt.legend()\n",
        "plt.title(\"Pitch Comparison\")\n",
        "plt.xlabel(\"Frame\")\n",
        "plt.ylabel(\"Pitch (Hz)\")\n",
        "plt.grid()\n",
        "plt.show()"
      ]
    },
    {
      "cell_type": "code",
      "execution_count": null,
      "metadata": {
        "id": "ompqITEpVw1r"
      },
      "outputs": [],
      "source": [
        "prof_pitch_clean = np.nan_to_num(prof_pitch)\n",
        "stud_pitch_clean = np.nan_to_num(stud_pitch)\n",
        "\n",
        "# Ensure both pitch arrays are the same length\n",
        "min_len = min(len(prof_pitch_clean), len(stud_pitch_clean))\n",
        "prof_pitch_clean = prof_pitch_clean[:min_len]\n",
        "stud_pitch_clean = stud_pitch_clean[:min_len]\n",
        "\n",
        "# Now compute pitch difference\n",
        "pitch_diff = np.abs(prof_pitch_clean - stud_pitch_clean)\n",
        "\n",
        "pitch_diff = np.abs(prof_pitch_clean - stud_pitch_clean)\n",
        "avg_error = np.mean(pitch_diff)\n",
        "\n",
        "# Analyze pitch deviations over time\n",
        "time_per_frame = len(stud_audio) / sr2 / len(stud_pitch_clean)\n",
        "significant_errors = []\n",
        "\n",
        "for i, diff in enumerate(pitch_diff):\n",
        "    if diff > 50:  # Threshold for \"significant\" error\n",
        "        timestamp = round(i * time_per_frame, 1)\n",
        "        significant_errors.append(timestamp)\n",
        "\n",
        "# Group timestamps into continuous segments\n",
        "from itertools import groupby\n",
        "from operator import itemgetter\n",
        "\n",
        "segments = []\n",
        "for k, g in groupby(enumerate(significant_errors), lambda x: x[0] - x[1]):\n",
        "    group = list(map(itemgetter(1), g))\n",
        "    if group:\n",
        "        start = group[0]\n",
        "        end = group[-1]\n",
        "        if end - start >= 1.5:  # Only include segments > 1.5 seconds\n",
        "            segments.append((start, end))\n",
        "\n",
        "# Provide localized feedback\n",
        "print(\"\\n🎵 Average pitch difference: {:.2f} Hz\".format(avg_error))\n",
        "\n",
        "if segments:\n",
        "    print(\"⚠️ Detailed pitch feedback (segments with >1.5s deviation):\")\n",
        "    for start, end in segments:\n",
        "        print(f\" - Pitch off between {start:.1f}s and {end:.1f}s\")\n",
        "elif avg_error > 100:\n",
        "    print(\"⚠️ Pitch is consistently off — not just in isolated areas. Focus on tuning accuracy throughout the piece.\")\n",
        "else:\n",
        "    print(\"✅ No major localized pitch issues detected.\")\n",
        "\n",
        "\n",
        "#print(f\"\\n🎵 Average pitch difference: {avg_error:.2f} Hz\")\n",
        "#if avg_error < 20:\n",
        "  #  print(\"🎯 Great job! Your pitch closely matches the reference.\")\n",
        "#elif avg_error < 50:\n",
        "    print(\"👍 You're in the ballpark, but there’s room for improvement.\")\n",
        "#else:\n",
        " #   print(\"⚠️ Your pitch deviates significantly. Focus on tuning and accuracy.\")\n",
        "\n",
        "\n"
      ]
    }
  ],
  "metadata": {
    "kernelspec": {
      "display_name": "Python 3",
      "language": "python",
      "name": "python3"
    },
    "language_info": {
      "name": "python",
      "version": ""
    },
    "colab": {
      "provenance": [],
      "include_colab_link": true
    }
  },
  "nbformat": 4,
  "nbformat_minor": 0
}