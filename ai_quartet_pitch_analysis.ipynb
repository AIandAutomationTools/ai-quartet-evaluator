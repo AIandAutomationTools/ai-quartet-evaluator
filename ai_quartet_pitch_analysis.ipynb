
{
 "cells": [
  {
   "cell_type": "markdown",
   "metadata": {},
   "source": [
    "# 🎶 AI Quartet Pitch Comparison\n",
    "This notebook compares a student's singing recording with a professor's reference using pitch analysis and waveform overlay.\n",
    "**Note:** Just run the cells below. No need to paste anything — the audio URLs are passed dynamically from Zapier."
   ]
  },
  {
   "cell_type": "code",
   "execution_count": null,
   "metadata": {},
   "outputs": [],
   "source": [
    "# Install required packages\n",
    "!pip install librosa matplotlib numpy requests"
   ]
  },
  {
   "cell_type": "code",
   "execution_count": null,
   "metadata": {},
   "outputs": [],
   "source": [
    "# Import libraries\n",
    "import librosa\n",
    "import matplotlib.pyplot as plt\n",
    "import numpy as np\n",
    "import requests\n",
    "from IPython.display import Audio\n",
    "from urllib.parse import urlparse, parse_qs\n",
    "import IPython.display as display"
   ]
  },
  {
   "cell_type": "code",
   "execution_count": null,
   "metadata": {},
   "outputs": [],
   "source": [
    "# Extract URLs from Colab URL\n",
    "parsed_url = urlparse(notebook_url)\n",
    "params = parse_qs(parsed_url.query)\n",
    "professor_url = params.get('professor_url', [None])[0]\n",
    "student_url = params.get('student_url', [None])[0]\n",
    "print('Professor URL:', professor_url)\n",
    "print('Student URL:', student_url)"
   ]
  },
  {
   "cell_type": "code",
   "execution_count": null,
   "metadata": {},
   "outputs": [],
   "source": [
    "# Define audio loader\n",
    "def load_audio_from_url(url):\n",
    "    r = requests.get(url)\n",
    "    with open('temp.mp3', 'wb') as f:\n",
    "        f.write(r.content)\n",
    "    audio, sr = librosa.load('temp.mp3')\n",
    "    return audio, sr"
   ]
  },
  {
   "cell_type": "code",
   "execution_count": null,
   "metadata": {},
   "outputs": [],
   "source": [
    "# Load audio\n",
    "prof_audio, sr1 = load_audio_from_url(professor_url)\n",
    "stud_audio, sr2 = load_audio_from_url(student_url)\n",
    "if sr1 != sr2:\n",
    "    stud_audio = librosa.resample(stud_audio, orig_sr=sr2, target_sr=sr1)\n",
    "    sr2 = sr1"
   ]
  },
  {
   "cell_type": "code",
   "execution_count": null,
   "metadata": {},
   "outputs": [],
   "source": [
    "# Extract pitch\n",
    "prof_pitch, _ = librosa.piptrack(y=prof_audio, sr=sr1)\n",
    "stud_pitch, _ = librosa.piptrack(y=stud_audio, sr=sr2)\n",
    "prof_pitch_mean = np.mean(prof_pitch, axis=0)\n",
    "stud_pitch_mean = np.mean(stud_pitch, axis=0)"
   ]
  },
  {
   "cell_type": "code",
   "execution_count": null,
   "metadata": {},
   "outputs": [],
   "source": [
    "# Plot pitch comparison\n",
    "plt.figure(figsize=(12, 4))\n",
    "plt.plot(prof_pitch_mean, label='Professor')\n",
    "plt.plot(stud_pitch_mean, label='Student')\n",
    "plt.title('Pitch Comparison')\n",
    "plt.xlabel('Frame')\n",
    "plt.ylabel('Pitch (Hz)')\n",
    "plt.legend()\n",
    "plt.grid(True)\n",
    "plt.show()"
   ]
  }
 ],
 "metadata": {
  "kernelspec": {
   "display_name": "Python 3",
   "language": "python",
   "name": "python3"
  },
  "language_info": {
   "name": "python",
   "version": ""
  }
 },
 "nbformat": 4,
 "nbformat_minor": 2
}
