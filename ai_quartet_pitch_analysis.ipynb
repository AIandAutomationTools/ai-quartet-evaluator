{
  "cells": [
    {
      "cell_type": "markdown",
      "metadata": {
        "id": "view-in-github",
        "colab_type": "text"
      },
      "source": [
        "<a href=\"https://colab.research.google.com/github/AIandAutomationTools/ai-quartet-evaluator/blob/main/ai_quartet_pitch_analysis.ipynb\" target=\"_parent\"><img src=\"https://colab.research.google.com/assets/colab-badge.svg\" alt=\"Open In Colab\"/></a>"
      ]
    },
    {
      "cell_type": "code",
      "source": [
        "import os\n",
        "\n",
        "professor_url = os.environ.get(\"professor_url\", None)\n",
        "student_url = os.environ.get(\"student_url\", None)\n",
        "\n",
        "print(\"Professor URL:\", professor_url)\n",
        "print(\"Student URL:\", student_url)\n"
      ],
      "metadata": {
        "id": "q8bhpqKurIEx",
        "outputId": "ced740d7-a35d-4405-e741-5eb3b5d5bf1e",
        "colab": {
          "base_uri": "https://localhost:8080/"
        }
      },
      "execution_count": 9,
      "outputs": [
        {
          "output_type": "stream",
          "name": "stdout",
          "text": [
            "Professor URL: None\n",
            "Student URL: None\n"
          ]
        }
      ]
    },
    {
      "cell_type": "code",
      "source": [],
      "metadata": {
        "id": "no08CVbVDoMj"
      },
      "execution_count": 9,
      "outputs": []
    },
    {
      "cell_type": "code",
      "source": [],
      "metadata": {
        "id": "Chk7T0emgGd-"
      },
      "execution_count": 9,
      "outputs": []
    },
    {
      "cell_type": "code",
      "source": [],
      "metadata": {
        "id": "ZfK3K1Ptqk76"
      },
      "execution_count": null,
      "outputs": []
    },
    {
      "cell_type": "markdown",
      "source": [],
      "metadata": {
        "id": "lZ412gOwqlie"
      }
    },
    {
      "cell_type": "code",
      "source": [],
      "metadata": {
        "id": "wFb7-lOwqmin"
      },
      "execution_count": null,
      "outputs": []
    },
    {
      "cell_type": "code",
      "source": [
        "import librosa\n",
        "import numpy as np\n",
        "import matplotlib.pyplot as plt\n",
        "import requests\n",
        "import io\n",
        "\n",
        "def load_audio_from_url(url):\n",
        "    response = requests.get(url)\n",
        "    audio_data, sr = librosa.load(io.BytesIO(response.content), sr=None)\n",
        "    return audio_data, sr\n",
        "\n",
        "# Load audio\n",
        "prof_audio, sr1 = load_audio_from_url(professor_url)\n",
        "stud_audio, sr2 = load_audio_from_url(student_url)\n",
        "\n",
        "# Resample if needed\n",
        "if sr1 != sr2:\n",
        "    stud_audio = librosa.resample(stud_audio, orig_sr=sr2, target_sr=sr1)\n",
        "    sr2 = sr1\n",
        "\n",
        "# Extract pitch\n",
        "prof_pitch, _ = librosa.pyin(prof_audio, fmin=librosa.note_to_hz('C2'), fmax=librosa.note_to_hz('C7'))\n",
        "stud_pitch, _ = librosa.pyin(stud_audio, fmin=librosa.note_to_hz('C2'), fmax=librosa.note_to_hz('C7'))\n",
        "\n",
        "# Plot pitch comparison\n",
        "plt.figure(figsize=(14, 5))\n",
        "plt.plot(prof_pitch, label='Professor Pitch', alpha=0.75)\n",
        "plt.plot(stud_pitch, label='Student Pitch', alpha=0.75)\n",
        "plt.legend()\n",
        "plt.title(\"Pitch Comparison\")\n",
        "plt.xlabel(\"Frame\")\n",
        "plt.ylabel(\"Pitch (Hz)\")\n",
        "plt.show()\n",
        "\n",
        "# Basic pitch error analysis\n",
        "prof_pitch_clean = np.nan_to_num(prof_pitch)\n",
        "stud_pitch_clean = np.nan_to_num(stud_pitch)\n",
        "pitch_diff = np.abs(prof_pitch_clean - stud_pitch_clean)\n",
        "avg_error = np.mean(pitch_diff)\n",
        "\n",
        "print(f\"\\n🎵 Average pitch difference: {avg_error:.2f} Hz\")\n",
        "if avg_error < 20:\n",
        "    print(\"🎯 Great job! Your pitch closely matches the reference.\")\n",
        "elif avg_error < 50:\n",
        "    print(\"👍 You're in the ballpark, but there’s room for improvement.\")\n",
        "else:\n",
        "    print(\"⚠️ Your pitch deviates significantly. Focus on tuning and accuracy.\")\n"
      ],
      "metadata": {
        "id": "ImVHxDlSzkPG"
      },
      "execution_count": null,
      "outputs": []
    },
    {
      "cell_type": "code",
      "execution_count": 11,
      "metadata": {
        "colab": {
          "base_uri": "https://localhost:8080/"
        },
        "id": "OBN1ucp_s9QR",
        "outputId": "9b77fb5b-c3ab-4e2e-83d1-b094abcec471"
      },
      "outputs": [
        {
          "output_type": "stream",
          "name": "stdout",
          "text": [
            "Requirement already satisfied: librosa in /usr/local/lib/python3.11/dist-packages (0.11.0)\n",
            "Requirement already satisfied: matplotlib in /usr/local/lib/python3.11/dist-packages (3.10.0)\n",
            "Requirement already satisfied: numpy in /usr/local/lib/python3.11/dist-packages (2.0.2)\n",
            "Requirement already satisfied: requests in /usr/local/lib/python3.11/dist-packages (2.32.3)\n",
            "Requirement already satisfied: audioread>=2.1.9 in /usr/local/lib/python3.11/dist-packages (from librosa) (3.0.1)\n",
            "Requirement already satisfied: numba>=0.51.0 in /usr/local/lib/python3.11/dist-packages (from librosa) (0.60.0)\n",
            "Requirement already satisfied: scipy>=1.6.0 in /usr/local/lib/python3.11/dist-packages (from librosa) (1.15.3)\n",
            "Requirement already satisfied: scikit-learn>=1.1.0 in /usr/local/lib/python3.11/dist-packages (from librosa) (1.6.1)\n",
            "Requirement already satisfied: joblib>=1.0 in /usr/local/lib/python3.11/dist-packages (from librosa) (1.5.1)\n",
            "Requirement already satisfied: decorator>=4.3.0 in /usr/local/lib/python3.11/dist-packages (from librosa) (4.4.2)\n",
            "Requirement already satisfied: soundfile>=0.12.1 in /usr/local/lib/python3.11/dist-packages (from librosa) (0.13.1)\n",
            "Requirement already satisfied: pooch>=1.1 in /usr/local/lib/python3.11/dist-packages (from librosa) (1.8.2)\n",
            "Requirement already satisfied: soxr>=0.3.2 in /usr/local/lib/python3.11/dist-packages (from librosa) (0.5.0.post1)\n",
            "Requirement already satisfied: typing_extensions>=4.1.1 in /usr/local/lib/python3.11/dist-packages (from librosa) (4.14.0)\n",
            "Requirement already satisfied: lazy_loader>=0.1 in /usr/local/lib/python3.11/dist-packages (from librosa) (0.4)\n",
            "Requirement already satisfied: msgpack>=1.0 in /usr/local/lib/python3.11/dist-packages (from librosa) (1.1.0)\n",
            "Requirement already satisfied: contourpy>=1.0.1 in /usr/local/lib/python3.11/dist-packages (from matplotlib) (1.3.2)\n",
            "Requirement already satisfied: cycler>=0.10 in /usr/local/lib/python3.11/dist-packages (from matplotlib) (0.12.1)\n",
            "Requirement already satisfied: fonttools>=4.22.0 in /usr/local/lib/python3.11/dist-packages (from matplotlib) (4.58.2)\n",
            "Requirement already satisfied: kiwisolver>=1.3.1 in /usr/local/lib/python3.11/dist-packages (from matplotlib) (1.4.8)\n",
            "Requirement already satisfied: packaging>=20.0 in /usr/local/lib/python3.11/dist-packages (from matplotlib) (24.2)\n",
            "Requirement already satisfied: pillow>=8 in /usr/local/lib/python3.11/dist-packages (from matplotlib) (11.2.1)\n",
            "Requirement already satisfied: pyparsing>=2.3.1 in /usr/local/lib/python3.11/dist-packages (from matplotlib) (3.2.3)\n",
            "Requirement already satisfied: python-dateutil>=2.7 in /usr/local/lib/python3.11/dist-packages (from matplotlib) (2.9.0.post0)\n",
            "Requirement already satisfied: charset-normalizer<4,>=2 in /usr/local/lib/python3.11/dist-packages (from requests) (3.4.2)\n",
            "Requirement already satisfied: idna<4,>=2.5 in /usr/local/lib/python3.11/dist-packages (from requests) (3.10)\n",
            "Requirement already satisfied: urllib3<3,>=1.21.1 in /usr/local/lib/python3.11/dist-packages (from requests) (2.4.0)\n",
            "Requirement already satisfied: certifi>=2017.4.17 in /usr/local/lib/python3.11/dist-packages (from requests) (2025.4.26)\n",
            "Requirement already satisfied: llvmlite<0.44,>=0.43.0dev0 in /usr/local/lib/python3.11/dist-packages (from numba>=0.51.0->librosa) (0.43.0)\n",
            "Requirement already satisfied: platformdirs>=2.5.0 in /usr/local/lib/python3.11/dist-packages (from pooch>=1.1->librosa) (4.3.8)\n",
            "Requirement already satisfied: six>=1.5 in /usr/local/lib/python3.11/dist-packages (from python-dateutil>=2.7->matplotlib) (1.17.0)\n",
            "Requirement already satisfied: threadpoolctl>=3.1.0 in /usr/local/lib/python3.11/dist-packages (from scikit-learn>=1.1.0->librosa) (3.6.0)\n",
            "Requirement already satisfied: cffi>=1.0 in /usr/local/lib/python3.11/dist-packages (from soundfile>=0.12.1->librosa) (1.17.1)\n",
            "Requirement already satisfied: pycparser in /usr/local/lib/python3.11/dist-packages (from cffi>=1.0->soundfile>=0.12.1->librosa) (2.22)\n"
          ]
        }
      ],
      "source": [
        "# Install dependencies\n",
        "!pip install librosa matplotlib numpy requests"
      ]
    },
    {
      "cell_type": "code",
      "execution_count": 12,
      "metadata": {
        "id": "5TU8VjJUs9QU"
      },
      "outputs": [],
      "source": [
        "import librosa\n",
        "import librosa.display\n",
        "import matplotlib.pyplot as plt\n",
        "import numpy as np\n",
        "import requests\n",
        "import io\n",
        "\n",
        "def load_audio_from_url(url):\n",
        "    response = requests.get(url)\n",
        "    audio_data, sr = librosa.load(io.BytesIO(response.content), sr=None)\n",
        "    return audio_data, sr"
      ]
    },
    {
      "cell_type": "code",
      "execution_count": 13,
      "metadata": {
        "id": "vENSUOLMs9QV",
        "outputId": "52e3d61e-db2f-430b-bb9a-82fcd38c77b9",
        "colab": {
          "base_uri": "https://localhost:8080/",
          "height": 211
        }
      },
      "outputs": [
        {
          "output_type": "error",
          "ename": "TypeError",
          "evalue": "'module' object is not callable",
          "traceback": [
            "\u001b[0;31m---------------------------------------------------------------------------\u001b[0m",
            "\u001b[0;31mTypeError\u001b[0m                                 Traceback (most recent call last)",
            "\u001b[0;32m<ipython-input-13-812797162>\u001b[0m in \u001b[0;36m<cell line: 0>\u001b[0;34m()\u001b[0m\n\u001b[1;32m      8\u001b[0m \u001b[0mIPython\u001b[0m\u001b[0;34m.\u001b[0m\u001b[0mnotebook\u001b[0m\u001b[0;34m.\u001b[0m\u001b[0mkernel\u001b[0m\u001b[0;34m.\u001b[0m\u001b[0mexecute\u001b[0m\u001b[0;34m(\u001b[0m\u001b[0;34m'params = '\u001b[0m \u001b[0;34m+\u001b[0m \u001b[0mJSON\u001b[0m\u001b[0;34m.\u001b[0m\u001b[0mstringify\u001b[0m\u001b[0;34m(\u001b[0m\u001b[0mObject\u001b[0m\u001b[0;34m.\u001b[0m\u001b[0mfromEntries\u001b[0m\u001b[0;34m(\u001b[0m\u001b[0mnew\u001b[0m \u001b[0mURLSearchParams\u001b[0m\u001b[0;34m(\u001b[0m\u001b[0mwindow\u001b[0m\u001b[0;34m.\u001b[0m\u001b[0mlocation\u001b[0m\u001b[0;34m.\u001b[0m\u001b[0msearch\u001b[0m\u001b[0;34m)\u001b[0m\u001b[0;34m)\u001b[0m\u001b[0;34m)\u001b[0m\u001b[0;34m)\u001b[0m\u001b[0;34m\u001b[0m\u001b[0;34m\u001b[0m\u001b[0m\n\u001b[1;32m      9\u001b[0m \"\"\"\n\u001b[0;32m---> 10\u001b[0;31m \u001b[0mdisplay\u001b[0m\u001b[0;34m(\u001b[0m\u001b[0mJavascript\u001b[0m\u001b[0;34m(\u001b[0m\u001b[0mparams_code\u001b[0m\u001b[0;34m)\u001b[0m\u001b[0;34m)\u001b[0m\u001b[0;34m\u001b[0m\u001b[0;34m\u001b[0m\u001b[0m\n\u001b[0m\u001b[1;32m     11\u001b[0m \u001b[0;34m\u001b[0m\u001b[0m\n\u001b[1;32m     12\u001b[0m \u001b[0;34m\u001b[0m\u001b[0m\n",
            "\u001b[0;31mTypeError\u001b[0m: 'module' object is not callable"
          ]
        }
      ],
      "source": [
        "from urllib.parse import parse_qs\n",
        "from IPython.display import Javascript\n",
        "import IPython\n",
        "\n",
        "# Parse query parameters from the URL\n",
        "# query_params = parse_qs(IPython.display.get_ipython().user_ns.get('IPython').get_ipython().getoutput('echo $COLAB_GPU'))\n",
        "params_code = \"\"\"\n",
        "IPython.notebook.kernel.execute('params = ' + JSON.stringify(Object.fromEntries(new URLSearchParams(window.location.search))))\n",
        "\"\"\"\n",
        "display(Javascript(params_code))\n",
        "\n",
        "\n",
        "\n",
        "# Load audio\n",
        "prof_audio, sr1 = load_audio_from_url(professor_url)\n",
        "stud_audio, sr2 = load_audio_from_url(student_url)\n",
        "\n",
        "# Resample if needed\n",
        "if sr1 != sr2:\n",
        "    stud_audio = librosa.resample(stud_audio, orig_sr=sr2, target_sr=sr1)\n",
        "    sr2 = sr1"
      ]
    },
    {
      "cell_type": "code",
      "source": [
        "try:\n",
        "    professor_url = params.get('professor_url', [''])[0]\n",
        "    student_url = params.get('student_url', [''])[0]\n",
        "    print(\"Professor URL:\", professor_url)\n",
        "    print(\"Student URL:\", student_url)\n",
        "except:\n",
        "    print(\"Could not retrieve URLs from the link. Please make sure it contains ?student_url=...&professor_url=...\")\n"
      ],
      "metadata": {
        "id": "__V91k3ro9ri"
      },
      "execution_count": null,
      "outputs": []
    },
    {
      "cell_type": "code",
      "source": [],
      "metadata": {
        "id": "6rpzTiLPrDMq"
      },
      "execution_count": null,
      "outputs": []
    },
    {
      "cell_type": "code",
      "execution_count": null,
      "metadata": {
        "id": "e0EFrQ4Cs9QW"
      },
      "outputs": [],
      "source": [
        "# Plot waveforms\n",
        "plt.figure(figsize=(14, 5))\n",
        "librosa.display.waveshow(prof_audio, sr=sr1, alpha=0.5, label='Professor')\n",
        "librosa.display.waveshow(stud_audio, sr=sr2, alpha=0.5, color='r', label='Student')\n",
        "plt.title(\"Waveform Comparison\")\n",
        "plt.legend()\n",
        "plt.show()"
      ]
    },
    {
      "cell_type": "code",
      "execution_count": null,
      "metadata": {
        "id": "9R8vJnjBs9QW"
      },
      "outputs": [],
      "source": [
        "# Extract pitch (fundamental frequency)\n",
        "prof_pitch, voiced_flag, voiced_probs = librosa.pyin(prof_audio, fmin=librosa.note_to_hz('C2'), fmax=librosa.note_to_hz('C7'))\n",
        "stud_pitch, voiced_flag, voiced_probs = librosa.pyin(stud_audio, fmin=librosa.note_to_hz('C2'), fmax=librosa.note_to_hz('C7'))\n",
        "\n",
        "\n",
        "# Create pitch comparison plot\n",
        "plt.figure(figsize=(14, 5))\n",
        "plt.plot(prof_pitch, label='Professor Pitch')\n",
        "plt.plot(stud_pitch, label='Student Pitch', alpha=0.7)\n",
        "plt.title(\"Pitch Comparison\")\n",
        "plt.xlabel(\"Frame\")\n",
        "plt.ylabel(\"Frequency (Hz)\")\n",
        "plt.legend()\n",
        "plt.show()"
      ]
    },
    {
      "cell_type": "code",
      "execution_count": null,
      "metadata": {
        "id": "JyrJS58hs9QX"
      },
      "outputs": [],
      "source": [
        "# Compare average pitch values\n",
        "prof_avg = np.nanmean(prof_pitch)\n",
        "stud_avg = np.nanmean(stud_pitch)\n",
        "pitch_diff = abs(prof_avg - stud_avg)\n",
        "print(f\"Professor Avg Pitch: {prof_avg:.2f} Hz\")\n",
        "print(f\"Student Avg Pitch: {stud_avg:.2f} Hz\")\n",
        "print(f\"Pitch Difference: {pitch_diff:.2f} Hz\")\n",
        "\n",
        "# Feedback\n",
        "if pitch_diff < 20:\n",
        "    print(\"✅ Great job! Student pitch closely matches the professor.\")\n",
        "elif pitch_diff < 50:\n",
        "    print(\"🟡 Good attempt, but noticeable pitch differences.\")\n",
        "else:\n",
        "    print(\"🔴 Consider practicing more to match the pitch.\")"
      ]
    }
  ],
  "metadata": {
    "kernelspec": {
      "display_name": "Python 3",
      "language": "python",
      "name": "python3"
    },
    "language_info": {
      "name": "python"
    },
    "colab": {
      "provenance": [],
      "include_colab_link": true
    }
  },
  "nbformat": 4,
  "nbformat_minor": 0
}