# AI Quartet Voice Comparison
# This notebook compares a student's singing recording to a professor's reference part
# using pitch analysis and a waveform overlay.

# ----------------------------
# Required Libraries
# ----------------------------
import librosa
import matplotlib.pyplot as plt
import numpy as np
import requests
from io import BytesIO
import os

# ----------------------------
# Load Audio from URL
# ----------------------------
def load_audio_from_url(url):
    if url is None:
        raise ValueError("❌ The URL is missing. Make sure it's passed correctly from Zapier.")
    response = requests.get(url)
    audio_data = BytesIO(response.content)
    audio, sr = librosa.load(audio_data, sr=None)
    return audio, sr

# ----------------------------
# Get URLs from Environment Variables
# ----------------------------
professor_url = os.environ.get("professor_url")
student_url = os.environ.get("student_url")

print("Professor URL:", professor_url)
print("Student URL:", student_url)

# ----------------------------
# Load Audio Files
# ----------------------------
prof_audio, sr1 = load_audio_from_url(professor_url)
stud_audio, sr2 = load_audio_from_url(student_url)

# Resample if needed
if sr1 != sr2:
    stud_audio = librosa.resample(stud_audio, orig_sr=sr2, target_sr=sr1)
    sr2 = sr1

# ----------------------------
# Extract Pitch
# ----------------------------
prof_pitch, _, _ = librosa.pyin(prof_audio, fmin=librosa.note_to_hz('C2'), fmax=librosa.note_to_hz('C7'))
stud_pitch, _, _ = librosa.pyin(stud_audio, fmin=librosa.note_to_hz('C2'), fmax=librosa.note_to_hz('C7'))

# ----------------------------
# Plot Pitch Comparison
# ----------------------------
plt.figure(figsize=(14, 6))
plt.plot(prof_pitch, label='Professor', color='blue')
plt.plot(stud_pitch, label='Student', color='orange')
plt.title('Pitch Comparison')
plt.xlabel('Frame')
plt.ylabel('Frequency (Hz)')
plt.legend()
plt.grid()
plt.show()

# ----------------------------
# Simple Text Feedback
# ----------------------------
prof_median = np.nanmedian(prof_pitch)
stud_median = np.nanmedian(stud_pitch)

pitch_diff = abs(prof_median - stud_median)

print("\nTextual Evaluation:")
print("Professor Median Pitch: {:.2f} Hz".format(prof_median))
print("Student Median Pitch: {:.2f} Hz".format(stud_median))

if pitch_diff < 10:
    print("✅ Excellent! The student's pitch is very close to the professor's.")
elif pitch_diff < 30:
    print("✅ Good. There's a moderate difference in pitch, but still acceptable.")
else:
    print("⚠️ Significant pitch difference. Recommend more practice on this part.")
