{
  "cells": [
    {
      "cell_type": "markdown",
      "metadata": {},
      "source": [
        "# AI Quartet Voice Comparison\n",
        "This notebook compares a student's recording to a professor's reference using pitch analysis."
      ]
    },
    {
      "cell_type": "code",
      "execution_count": null,
      "metadata": {},
      "outputs": [],
      "source": [
        "import librosa\n",
        "import numpy as np\n",
        "import matplotlib.pyplot as plt\n",
        "import requests\n",
        "import io\n",
        "import os\n",
        "\n",
        "def load_audio_from_url(url):\n",
        "    if not url:\n",
        "        raise ValueError(\"\u274c Missing URL input.\")\n",
        "    try:\n",
        "        print(f\"\ud83d\udd17 Attempting to download: {url}\")\n",
        "        response = requests.get(url)\n",
        "        response.raise_for_status()\n",
        "        audio_data = io.BytesIO(response.content)\n",
        "        audio, sr = librosa.load(audio_data, sr=None)\n",
        "        return audio, sr\n",
        "    except Exception as e:\n",
        "        raise RuntimeError(f\"\u274c Failed to load audio from {url}\\nError: {e}\")\n",
        "\n",
        "# Get URLs from environment (set in Zapier)\n",
        "professor_url = os.environ.get(\"professor_url\")\n",
        "student_url = os.environ.get(\"student_url\")\n",
        "print(\"Professor URL:\", professor_url)\n",
        "print(\"Student URL:\", student_url)\n",
        "\n",
        "# Load and resample audio if needed\n",
        "prof_audio, sr1 = load_audio_from_url(professor_url)\n",
        "stud_audio, sr2 = load_audio_from_url(student_url)\n",
        "if sr1 != sr2:\n",
        "    stud_audio = librosa.resample(stud_audio, orig_sr=sr2, target_sr=sr1)\n",
        "    sr2 = sr1\n",
        "\n",
        "# Extract pitch\n",
        "prof_pitch, _ = librosa.pyin(prof_audio, fmin=librosa.note_to_hz('C2'), fmax=librosa.note_to_hz('C7'))\n",
        "stud_pitch, _ = librosa.pyin(stud_audio, fmin=librosa.note_to_hz('C2'), fmax=librosa.note_to_hz('C7'))\n",
        "\n",
        "# Plot pitch comparison\n",
        "plt.figure(figsize=(14, 5))\n",
        "plt.plot(prof_pitch, label='Professor Pitch', alpha=0.75)\n",
        "plt.plot(stud_pitch, label='Student Pitch', alpha=0.75)\n",
        "plt.legend()\n",
        "plt.title(\"Pitch Comparison\")\n",
        "plt.xlabel(\"Frame\")\n",
        "plt.ylabel(\"Pitch (Hz)\")\n",
        "plt.grid(True)\n",
        "plt.show()\n",
        "\n",
        "# Pitch error analysis\n",
        "prof_pitch_clean = np.nan_to_num(prof_pitch)\n",
        "stud_pitch_clean = np.nan_to_num(stud_pitch)\n",
        "pitch_diff = np.abs(prof_pitch_clean - stud_pitch_clean)\n",
        "avg_error = np.mean(pitch_diff)\n",
        "\n",
        "print(f\"\\n\ud83c\udfb5 Average pitch difference: {avg_error:.2f} Hz\")\n",
        "if avg_error < 20:\n",
        "    print(\"\ud83c\udfaf Great job! Your pitch closely matches the reference.\")\n",
        "elif avg_error < 50:\n",
        "    print(\"\ud83d\udc4d You're in the ballpark, but there\u2019s room for improvement.\")\n",
        "else:\n",
        "    print(\"\u26a0\ufe0f Your pitch deviates significantly. Focus on tuning and accuracy.\")\n"
      ]
    }
  ],
  "metadata": {
    "kernelspec": {
      "display_name": "Python 3",
      "language": "python",
      "name": "python3"
    },
    "language_info": {
      "name": "python",
      "version": "3.11"
    }
  },
  "nbformat": 4,
  "nbformat_minor": 2
}